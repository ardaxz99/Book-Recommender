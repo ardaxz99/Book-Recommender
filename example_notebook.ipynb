{
  "cells": [
    {
      "cell_type": "code",
      "execution_count": 62,
      "metadata": {},
      "outputs": [],
      "source": [
        "import pandas as pd\n",
        "import numpy as np\n",
        "import networkx as nx\n",
        "import torch\n",
        "from sklearn.preprocessing import OneHotEncoder, MinMaxScaler, MultiLabelBinarizer\n",
        "from sklearn.metrics.pairwise import cosine_similarity\n",
        "from scipy.sparse import hstack\n",
        "from gensim.models import Word2Vec\n",
        "import gensim\n",
        "from scipy.sparse import csr_matrix\n",
        "from libreco.algorithms import ItemCF\n",
        "from libreco.data import DatasetPure\n",
        "from libreco.evaluation import evaluate\n",
        "import tensorflow as tf\n"
      ]
    },
    {
      "cell_type": "code",
      "execution_count": 63,
      "metadata": {
        "id": "YDNETyBjrBla"
      },
      "outputs": [],
      "source": [
        "\n",
        "# Load DataFrames\n",
        "books = pd.read_csv('data/books.csv')\n",
        "ratings = pd.read_csv('data/ratings.csv')\n",
        "tags = pd.read_csv('data/tags.csv')\n",
        "book_tags = pd.read_csv('data/book_tags.csv')\n",
        "\n",
        "# Data preprocessing\n",
        "ratings = ratings.drop_duplicates(subset=['user_id', 'book_id'])\n",
        "ratings = ratings[ratings['user_id'].isin(ratings['user_id'].value_counts()[ratings['user_id'].value_counts() >= 20].index)]\n",
        "\n",
        "books.drop_duplicates(subset='title', inplace=True)\n",
        "books.dropna(subset=['original_title'], inplace=True)\n",
        "books = books[~books['book_id'].isin(books[books.isnull().any(axis=1)]['book_id'])]\n",
        "\n",
        "# Remove any ratings that do not have a corresponding book in the books DataFrame\n",
        "ratings = ratings[ratings['book_id'].isin(books['book_id'])]\n",
        "\n",
        "# Selecting 10% of users randomly\n",
        "np.random.seed(42)  # For reproducibility\n",
        "selected_users = np.random.choice(ratings['user_id'].unique(), size=int(0.1 * ratings['user_id'].nunique()), replace=False)\n",
        "ratings = ratings[ratings['user_id'].isin(selected_users)]\n",
        "\n",
        "# Function to split ratings based on different strategies\n",
        "def split_ratings_custom(ratings, strategy='random', shot=10, percentage=0.2):\n",
        "    def split_random(group, shot):\n",
        "        shot = min(shot, len(group))\n",
        "        train_indices = group.sample(n=shot, random_state=42).index\n",
        "        test_indices = group.index.difference(train_indices)\n",
        "        return train_indices, test_indices\n",
        "\n",
        "    def split_highest(group, shot):\n",
        "        shot = min(shot, len(group))\n",
        "        train_indices = group.nlargest(shot, 'rating').index\n",
        "        test_indices = group.index.difference(train_indices)\n",
        "        return train_indices, test_indices\n",
        "\n",
        "    def split_lowest(group, shot):\n",
        "        shot = min(shot, len(group))\n",
        "        train_indices = group.nsmallest(shot, 'rating').index\n",
        "        test_indices = group.index.difference(train_indices)\n",
        "        return train_indices, test_indices\n",
        "\n",
        "    def split_percentage(group, percentage):\n",
        "        train_size = int(len(group) * (1 - percentage))\n",
        "        train_indices = group.sample(n=train_size, random_state=42).index\n",
        "        test_indices = group.index.difference(train_indices)\n",
        "        return train_indices, test_indices\n",
        "\n",
        "    split_functions = {\n",
        "        'random': split_random,\n",
        "        'highest': split_highest,\n",
        "        'lowest': split_lowest,\n",
        "        'percentage': split_percentage\n",
        "    }\n",
        "\n",
        "    split_function = split_functions.get(strategy, split_random)\n",
        "\n",
        "    split_indices = ratings.groupby('user_id').apply(lambda x: split_function(x, shot if strategy != 'percentage' else percentage))\n",
        "\n",
        "    train_indices = split_indices.map(lambda x: x[0]).explode().dropna()\n",
        "    test_indices = split_indices.map(lambda x: x[1]).explode().dropna()\n",
        "\n",
        "    return train_indices, test_indices\n",
        "\n",
        "\n",
        "\n"
      ]
    },
    {
      "cell_type": "code",
      "execution_count": null,
      "metadata": {},
      "outputs": [],
      "source": [
        "# Example usage of evaluation\n",
        "strategies = ['percentage', 'random', 'highest', 'lowest']\n",
        "shots = [5, 10, 20]\n",
        "percentage = 0.2\n",
        "\n",
        "results = {}\n",
        "\n",
        "\n",
        "for strategy in strategies:\n",
        "    if strategy == 'percentage':\n",
        "        train_indices, test_indices = split_ratings_custom(ratings, strategy=strategy, percentage=percentage)\n",
        "        train_set = ratings.loc[train_indices]\n",
        "        test_set = ratings.loc[test_indices]\n",
        "\n",
        "        # Ensure there are no missing books in train that are in test\n",
        "        missing_in_train = set(test_set['book_id']).difference(train_set['book_id'])\n",
        "        if missing_in_train:\n",
        "            rows_to_move = test_set[test_set['book_id'].isin(missing_in_train)]\n",
        "            train_set = pd.concat([train_set, rows_to_move], ignore_index=True)\n",
        "            test_set = test_set[~test_set['book_id'].isin(missing_in_train)]\n",
        "\n",
        "        # Reset TensorFlow graph\n",
        "        tf.compat.v1.reset_default_graph()\n",
        "\n",
        "        # Create copies of train_set and test_set to avoid modifying the originals\n",
        "        train_set_copy = train_set.copy()\n",
        "        test_set_copy = test_set.copy()\n",
        "\n",
        "        # Rename columns in the copies\n",
        "        train_set_copy.rename(columns={\n",
        "            'user_id': 'user',\n",
        "            'book_id': 'item',\n",
        "            'rating': 'label'\n",
        "        }, inplace=True)\n",
        "\n",
        "        test_set_copy.rename(columns={\n",
        "            'user_id': 'user',\n",
        "            'book_id': 'item',\n",
        "            'rating': 'label'\n",
        "        }, inplace=True)\n",
        "\n",
        "        # Convert the renamed copies for use with DatasetPure\n",
        "        train_data, data_info = DatasetPure.build_trainset(train_set_copy)\n",
        "        eval_data = DatasetPure.build_evalset(test_set_copy)\n",
        "\n",
        "        # Initialize the ItemCF model\n",
        "        model = ItemCF(task=\"rating\", data_info=data_info)\n",
        "\n",
        "        # Fit the model\n",
        "        model.fit(\n",
        "            train_data,\n",
        "            neg_sampling=False,\n",
        "            verbose=2,\n",
        "            eval_data=eval_data,\n",
        "            metrics=[\"rmse\", \"mae\", \"r2\"]\n",
        "        )\n",
        "\n",
        "        # Save the model and data_info for later use\n",
        "        data_info.save(path=\"model\", model_name=\"model\")\n",
        "        model.save(path=\"model\", model_name=\"model\", manual=True, inference_only=True)\n",
        "\n",
        "        eval_result = evaluate(\n",
        "            model=model,\n",
        "            data=eval_data,\n",
        "            neg_sampling=False,\n",
        "            k=10,\n",
        "            metrics=[\"rmse\", \"mae\", \"r2\"],\n",
        "            sample_user_num=None,\n",
        "            seed=2222,\n",
        "        )\n",
        "\n",
        "        results[(strategy, 'N/A')] = eval_result\n",
        "\n",
        "    else:\n",
        "        for shot in shots:\n",
        "            train_indices, test_indices = split_ratings_custom(ratings, strategy=strategy, shot=shot)\n",
        "            train_set = ratings.loc[train_indices]\n",
        "            test_set = ratings.loc[test_indices]\n",
        "\n",
        "            # Ensure there are no missing books in train that are in test\n",
        "            missing_in_train = set(test_set['book_id']).difference(train_set['book_id'])\n",
        "            if missing_in_train:\n",
        "                rows_to_move = test_set[test_set['book_id'].isin(missing_in_train)]\n",
        "                train_set = pd.concat([train_set, rows_to_move], ignore_index=True)\n",
        "                test_set = test_set[~test_set['book_id'].isin(missing_in_train)]\n",
        "\n",
        "            # Reset TensorFlow graph\n",
        "            tf.compat.v1.reset_default_graph()\n",
        "\n",
        "            # Create copies of train_set and test_set to avoid modifying the originals\n",
        "            train_set_copy = train_set.copy()\n",
        "            test_set_copy = test_set.copy()\n",
        "\n",
        "            # Rename columns in the copies\n",
        "            train_set_copy.rename(columns={\n",
        "                'user_id': 'user',\n",
        "                'book_id': 'item',\n",
        "                'rating': 'label'\n",
        "            }, inplace=True)\n",
        "\n",
        "            test_set_copy.rename(columns={\n",
        "                'user_id': 'user',\n",
        "                'book_id': 'item',\n",
        "                'rating': 'label'\n",
        "            }, inplace=True)\n",
        "\n",
        "            # Convert the renamed copies for use with DatasetPure\n",
        "            train_data, data_info = DatasetPure.build_trainset(train_set_copy)\n",
        "            eval_data = DatasetPure.build_evalset(test_set_copy)\n",
        "\n",
        "            # Initialize the ItemCF model\n",
        "            model = ItemCF(task=\"rating\", data_info=data_info)\n",
        "\n",
        "            # Fit the model\n",
        "            model.fit(\n",
        "                train_data,\n",
        "                neg_sampling=False,\n",
        "                verbose=2,\n",
        "                eval_data=eval_data\n",
        "            )\n",
        "\n",
        "            # Save the model and data_info for later use\n",
        "            data_info.save(path=\"model\", model_name=\"model\")\n",
        "            model.save(path=\"model\", model_name=\"model\", manual=True, inference_only=True)\n",
        "\n",
        "            eval_result = evaluate(\n",
        "                model=model,\n",
        "                data=eval_data,\n",
        "                neg_sampling=False,\n",
        "                k=10,\n",
        "                metrics=[\"rmse\", \"mae\", \"r2\"],\n",
        "                sample_user_num=None,\n",
        "                seed=2222,\n",
        "            )\n",
        "\n",
        "            results[(strategy, shot)] = eval_result\n",
        "\n",
        "print(\"Evaluation Results:\")\n",
        "for key, value in results.items():\n",
        "    print(f\"Strategy: {key[0]}, Shot: {key[1]} -> RMSE: {value['rmse']}, MAE: {value['mae']}, R2: {value['r2']}\")\n"
      ]
    },
    {
      "cell_type": "markdown",
      "metadata": {},
      "source": [
        "### Graph Analysis"
      ]
    },
    {
      "cell_type": "code",
      "execution_count": 64,
      "metadata": {},
      "outputs": [
        {
          "ename": "KeyboardInterrupt",
          "evalue": "",
          "output_type": "error",
          "traceback": [
            "\u001b[1;31m---------------------------------------------------------------------------\u001b[0m",
            "\u001b[1;31mKeyboardInterrupt\u001b[0m                         Traceback (most recent call last)",
            "Cell \u001b[1;32mIn[64], line 11\u001b[0m\n\u001b[0;32m      8\u001b[0m B\u001b[38;5;241m.\u001b[39madd_weighted_edges_from(edges)\n\u001b[0;32m     10\u001b[0m \u001b[38;5;66;03m# Verify edges and their attributes\u001b[39;00m\n\u001b[1;32m---> 11\u001b[0m \u001b[38;5;28;01mfor\u001b[39;00m edge \u001b[38;5;129;01min\u001b[39;00m \u001b[38;5;28;43mlist\u001b[39;49m\u001b[43m(\u001b[49m\u001b[43mB\u001b[49m\u001b[38;5;241;43m.\u001b[39;49m\u001b[43medges\u001b[49m\u001b[43m(\u001b[49m\u001b[43mdata\u001b[49m\u001b[38;5;241;43m=\u001b[39;49m\u001b[38;5;28;43;01mTrue\u001b[39;49;00m\u001b[43m)\u001b[49m\u001b[43m)\u001b[49m[:\u001b[38;5;241m5\u001b[39m]:  \u001b[38;5;66;03m# Print first 5 edges with attributes\u001b[39;00m\n\u001b[0;32m     12\u001b[0m     \u001b[38;5;28mprint\u001b[39m(edge)\n",
            "File \u001b[1;32mc:\\Users\\duval\\miniconda3\\Lib\\site-packages\\networkx\\classes\\reportviews.py:850\u001b[0m, in \u001b[0;36mEdgeDataView.__iter__\u001b[1;34m(self)\u001b[0m\n\u001b[0;32m    848\u001b[0m     \u001b[38;5;28;01mfor\u001b[39;00m nbr, dd \u001b[38;5;129;01min\u001b[39;00m nbrs\u001b[38;5;241m.\u001b[39mitems():\n\u001b[0;32m    849\u001b[0m         \u001b[38;5;28;01mif\u001b[39;00m nbr \u001b[38;5;129;01mnot\u001b[39;00m \u001b[38;5;129;01min\u001b[39;00m seen:\n\u001b[1;32m--> 850\u001b[0m             \u001b[38;5;28;01myield\u001b[39;00m \u001b[38;5;28mself\u001b[39m\u001b[38;5;241m.\u001b[39m_report(n, nbr, dd)\n\u001b[0;32m    851\u001b[0m     seen[n] \u001b[38;5;241m=\u001b[39m \u001b[38;5;241m1\u001b[39m\n\u001b[0;32m    852\u001b[0m \u001b[38;5;28;01mdel\u001b[39;00m seen\n",
            "\u001b[1;31mKeyboardInterrupt\u001b[0m: "
          ]
        }
      ],
      "source": [
        "# B = nx.Graph()\n",
        "# users = list(ratings['user_id'])\n",
        "# books = list(ratings['book_id'])\n",
        "# B.add_nodes_from(users, bipartite=0)\n",
        "# B.add_nodes_from(books, bipartite=1)\n",
        "\n",
        "# edges = list(zip(ratings['user_id'], ratings['book_id'], ratings['rating']))\n",
        "# B.add_weighted_edges_from(edges)\n",
        "\n",
        "# # Verify edges and their attributes\n",
        "# for edge in list(B.edges(data=True))[:5]:  # Print first 5 edges with attributes\n",
        "#     print(edge)"
      ]
    },
    {
      "cell_type": "code",
      "execution_count": 72,
      "metadata": {},
      "outputs": [
        {
          "data": {
            "text/plain": [
              "-0.1300237154494284"
            ]
          },
          "execution_count": 72,
          "metadata": {},
          "output_type": "execute_result"
        }
      ],
      "source": [
        "B = nx.Graph()\n",
        "\n",
        "# Prefixing user and book IDs\n",
        "users = ['user_' + str(uid) for uid in ratings['user_id']]\n",
        "books = ['book_' + str(bid) for bid in ratings['book_id']]\n",
        "\n",
        "B.add_nodes_from(users, bipartite=0)\n",
        "B.add_nodes_from(books, bipartite=1)\n",
        "\n",
        "edges = list(zip(users, books, ratings['rating']))\n",
        "B.add_weighted_edges_from(edges)\n",
        "\n",
        "print(\"Is graph bipartite:\", nx.is_bipartite(B))\n",
        "\n",
        "num_users = len([n for n in B.nodes() if B.nodes[n]['bipartite'] == 0])\n",
        "num_books = len([n for n in B.nodes() if B.nodes[n]['bipartite'] == 1])\n",
        "max_interactions = num_users * num_books\n",
        "actual_interactions = B.number_of_edges()\n",
        "sparsity_level= actual_interactions / max_interactions\n",
        "print(sparsity_level)\n",
        "\n",
        "degree_sequence = [d for n, d in B.degree()]\n",
        "average_degree = sum(degree_sequence) / len(degree_sequence)\n",
        "print(f\"Average Degree: {average_degree}\")\n",
        "\n",
        "n_edge = B.number_of_edges()\n",
        "print(n_edge)\n",
        "n_nodes = B.number_of_nodes()\n",
        "print(n_nodes)\n",
        "degree_dict = dict(B.degree())\n",
        "\n",
        "user_degrees = [degree_dict[n] for n in B.nodes() if B.nodes[n]['bipartite'] == 0]\n",
        "book_degrees = [degree_dict[n] for n in B.nodes() if B.nodes[n]['bipartite'] == 1]\n",
        "\n",
        "average_degree_users = sum(user_degrees) / len(user_degrees) if user_degrees else 0\n",
        "average_degree_books = sum(book_degrees) / len(book_degrees) if book_degrees else 0\n",
        "\n",
        "print(average_degree_users)\n",
        "print(average_degree_books)\n",
        "\n",
        "user_book_assortativity = nx.degree_assortativity_coefficient(B)\n",
        "print(user_book_assortativity)\n",
        "user_degree_centrality = nx.bipartite.degree_centrality(B, ratings['user_id'])\n",
        "book_degree_centrality = nx.bipartite.degree_centrality(B, ratings['book_id'])\n",
        "\n",
        "average_user_degree_centrality = sum(user_degree_centrality.values()) / len(user_degree_centrality)\n",
        "average_book_degree_centrality = sum(book_degree_centrality.values()) / len(book_degree_centrality)\n",
        "print(average_user_degree_centrality)\n",
        "print(average_book_degree_centrality)\n",
        "density = nx.density(B)\n",
        "print(density)"
      ]
    },
    {
      "cell_type": "markdown",
      "metadata": {},
      "source": [
        "#### Reduce graph size "
      ]
    },
    {
      "cell_type": "code",
      "execution_count": 6,
      "metadata": {},
      "outputs": [
        {
          "name": "stderr",
          "output_type": "stream",
          "text": [
            "C:\\Users\\duval\\AppData\\Local\\Temp\\ipykernel_1332\\661262127.py:11: FutureWarning: biadjacency_matrix will return a scipy.sparse array instead of a matrix in NetworkX 3.0\n",
            "  user_book_matrix = nx.bipartite.biadjacency_matrix(graph, row_order=user_nodes, column_order=book_nodes).toarray()\n"
          ]
        },
        {
          "name": "stdout",
          "output_type": "stream",
          "text": [
            "Number of edges in the sampled graph: 100000\n",
            "(52218, 528, {'weight': 5})\n",
            "(52218, 608, {'weight': 5})\n",
            "(52218, 6891, {'weight': 5})\n",
            "(52218, 481, {'weight': 5})\n",
            "(52218, 1374, {'weight': 4})\n"
          ]
        }
      ],
      "source": [
        "import networkx as nx\n",
        "import numpy as np\n",
        "from sklearn.metrics.pairwise import cosine_similarity\n",
        "\n",
        "def compute_user_similarity(graph, threshold):\n",
        "    # Create adjacency matrix for users and books\n",
        "    user_nodes = [n for n in graph.nodes() if graph.nodes[n]['bipartite'] == 0]\n",
        "    book_nodes = [n for n in graph.nodes() if graph.nodes[n]['bipartite'] == 1]\n",
        "    \n",
        "    # Create adjacency matrix\n",
        "    user_book_matrix = nx.bipartite.biadjacency_matrix(graph, row_order=user_nodes, column_order=book_nodes).toarray()\n",
        "    \n",
        "    # Compute cosine similarity between users\n",
        "    similarity_matrix = cosine_similarity(user_book_matrix)\n",
        "    \n",
        "    # Filter user pairs based on similarity threshold\n",
        "    similar_users = []\n",
        "    for i, user1 in enumerate(user_nodes):\n",
        "        for j, user2 in enumerate(user_nodes):\n",
        "            if i != j and similarity_matrix[i, j] >= threshold:\n",
        "                similar_users.append((user1, user2))\n",
        "    \n",
        "    return similar_users\n",
        "\n",
        "similarity_threshold = 0.3\n",
        "\n",
        "# Compute filtered user pairs based on cosine similarity\n",
        "similar_users = compute_user_similarity(B, similarity_threshold)\n",
        "\n",
        "# Flatten the list of similar users\n",
        "similar_user_set = set([user for pair in similar_users for user in pair])\n",
        "\n",
        "# Filter edges to include only those connected to similar users\n",
        "filtered_edges = [(u, v, d['weight']) for u, v, d in B.edges(data=True) if u in similar_user_set or v in similar_user_set]\n",
        "\n",
        "# Calculate edge weights and their probabilities in the filtered edges\n",
        "edge_weights = np.array([d[2] for d in filtered_edges])\n",
        "edge_probabilities = edge_weights / edge_weights.sum()\n",
        "\n",
        "# Sampling edges with probabilities\n",
        "num_edges_to_sample = min(100000, len(filtered_edges))\n",
        "sampled_indices = np.random.choice(len(filtered_edges), size=num_edges_to_sample, replace=False, p=edge_probabilities)\n",
        "sampled_edges = [filtered_edges[i] for i in sampled_indices]\n",
        "\n",
        "# Create a new graph with the sampled edges\n",
        "B_sampled = nx.Graph()\n",
        "B_sampled.add_weighted_edges_from(sampled_edges)\n",
        "\n",
        "# Add bipartite attributes\n",
        "for node in B.nodes(data=True):\n",
        "    if node[1]['bipartite'] == 0:\n",
        "        B_sampled.add_node(node[0], bipartite=0)\n",
        "    else:\n",
        "        B_sampled.add_node(node[0], bipartite=1)\n",
        "\n",
        "print(f\"Number of edges in the sampled graph: {B_sampled.number_of_edges()}\")\n",
        "\n",
        "for edge in list(B_sampled.edges(data=True))[:5]:\n",
        "    print(edge)"
      ]
    },
    {
      "cell_type": "code",
      "execution_count": 18,
      "metadata": {},
      "outputs": [
        {
          "name": "stderr",
          "output_type": "stream",
          "text": [
            "C:\\Users\\duval\\AppData\\Local\\Temp\\ipykernel_1332\\948819009.py:11: FutureWarning: biadjacency_matrix will return a scipy.sparse array instead of a matrix in NetworkX 3.0\n",
            "  user_book_matrix = nx.bipartite.biadjacency_matrix(graph, row_order=user_nodes, column_order=book_nodes).toarray()\n"
          ]
        },
        {
          "name": "stdout",
          "output_type": "stream",
          "text": [
            "Number of edges in the sampled graph: 100000\n",
            "(123, 33683, {'weight': 5})\n",
            "(123, 52105, {'weight': 5})\n",
            "(123, 17187, {'weight': 4})\n",
            "(123, 12799, {'weight': 3})\n",
            "(123, 19924, {'weight': 3})\n"
          ]
        }
      ],
      "source": [
        "import networkx as nx\n",
        "import numpy as np\n",
        "from sklearn.metrics.pairwise import cosine_similarity\n",
        "\n",
        "def compute_user_similarity(graph, threshold):\n",
        "    # Extract user and book nodes\n",
        "    user_nodes = [n for n in graph.nodes() if graph.nodes[n]['bipartite'] == 0]\n",
        "    book_nodes = [n for n in graph.nodes() if graph.nodes[n]['bipartite'] == 1]\n",
        "    \n",
        "    # Create adjacency matrix for user-book relationships\n",
        "    user_book_matrix = nx.bipartite.biadjacency_matrix(graph, row_order=user_nodes, column_order=book_nodes).toarray()\n",
        "    \n",
        "    # Compute cosine similarity between users\n",
        "    similarity_matrix = cosine_similarity(user_book_matrix)\n",
        "    \n",
        "    # Identify user pairs with similarity above the threshold\n",
        "    similar_users = []\n",
        "    for i, user1 in enumerate(user_nodes):\n",
        "        for j, user2 in enumerate(user_nodes):\n",
        "            if i != j and similarity_matrix[i, j] >= threshold:\n",
        "                similar_users.append((user1, user2))\n",
        "    \n",
        "    return similar_users\n",
        "\n",
        "similarity_threshold = 0.3\n",
        "\n",
        "# Compute filtered user pairs based on cosine similarity\n",
        "similar_users = compute_user_similarity(B, similarity_threshold)\n",
        "\n",
        "# Flatten the list of similar users\n",
        "similar_user_set = set([user for pair in similar_users for user in pair])\n",
        "\n",
        "# Filter edges to include only those connected to similar users\n",
        "filtered_edges = [(u, v, d['weight']) for u, v, d in B.edges(data=True) if u in similar_user_set or v in similar_user_set]\n",
        "\n",
        "# Calculate edge weights and their probabilities in the filtered edges\n",
        "edge_weights = np.array([d[2] for d in filtered_edges])\n",
        "edge_probabilities = edge_weights / edge_weights.sum()\n",
        "\n",
        "# Sampling edges with probabilities\n",
        "num_edges_to_sample = min(100000, len(filtered_edges))\n",
        "sampled_indices = np.random.choice(len(filtered_edges), size=num_edges_to_sample, replace=False, p=edge_probabilities)\n",
        "sampled_edges = [filtered_edges[i] for i in sampled_indices]\n",
        "\n",
        "# Create a new graph with the sampled edges\n",
        "B_sampled = nx.Graph()\n",
        "B_sampled.add_weighted_edges_from(sampled_edges)\n",
        "\n",
        "# Add bipartite attributes to nodes in the sampled graph\n",
        "for node, data in B.nodes(data=True):\n",
        "    B_sampled.add_node(node, bipartite=data['bipartite'])\n",
        "\n",
        "# Display information about the sampled graph\n",
        "print(f\"Number of edges in the sampled graph: {B_sampled.number_of_edges()}\")\n",
        "\n",
        "# Print first 5 edges in the sampled graph\n",
        "for edge in list(B_sampled.edges(data=True))[:5]:\n",
        "    print(edge)\n"
      ]
    },
    {
      "cell_type": "markdown",
      "metadata": {},
      "source": [
        "#### Metrics "
      ]
    },
    {
      "cell_type": "code",
      "execution_count": 9,
      "metadata": {},
      "outputs": [
        {
          "data": {
            "text/plain": [
              "12396"
            ]
          },
          "execution_count": 9,
          "metadata": {},
          "output_type": "execute_result"
        }
      ],
      "source": [
        "B_sampled.number_of_nodes()"
      ]
    },
    {
      "cell_type": "code",
      "execution_count": 21,
      "metadata": {},
      "outputs": [],
      "source": [
        "num_users_sampled = len([n for n in B_sampled.nodes() if B_sampled.nodes[n]['bipartite'] == 0])\n",
        "num_books_sampled = len([n for n in B_sampled.nodes() if B_sampled.nodes[n]['bipartite'] == 1])\n",
        "total_possible_interactions_sampled = num_users * num_books\n",
        "actual_interactions_sampled = B_sampled.number_of_edges()\n",
        "sparsity_level_sampled = actual_interactions / total_possible_interactions"
      ]
    },
    {
      "cell_type": "code",
      "execution_count": 22,
      "metadata": {},
      "outputs": [
        {
          "data": {
            "text/plain": [
              "0.012662909815206149"
            ]
          },
          "execution_count": 22,
          "metadata": {},
          "output_type": "execute_result"
        }
      ],
      "source": [
        "sparsity_level_sampled"
      ]
    },
    {
      "cell_type": "code",
      "execution_count": 16,
      "metadata": {},
      "outputs": [
        {
          "data": {
            "text/plain": [
              "16.134236850596967"
            ]
          },
          "execution_count": 16,
          "metadata": {},
          "output_type": "execute_result"
        }
      ],
      "source": [
        "avg_neighborhood_size = np.mean([len(list(B_sampled.neighbors(node))) for node in B_sampled.nodes])\n",
        "avg_neighborhood_size"
      ]
    },
    {
      "cell_type": "code",
      "execution_count": 6,
      "metadata": {},
      "outputs": [
        {
          "data": {
            "image/png": "[encoded data removed]",
            "text/plain": [
              "<Figure size 640x480 with 1 Axes>"
            ]
          },
          "metadata": {},
          "output_type": "display_data"
        }
      ],
      "source": [
        "import matplotlib.pyplot as plt\n",
        "\n",
        "degree_sequence = [d for n, d in B_sampled.degree()]\n",
        "degree_count = pd.Series(degree_sequence).value_counts().sort_index()\n",
        "plt.figure()\n",
        "degree_count.plot(kind='bar')\n",
        "plt.title('Degree Distribution')\n",
        "plt.xlabel('Degree')\n",
        "plt.ylabel('Frequency')\n",
        "plt.show()"
      ]
    },
    {
      "cell_type": "code",
      "execution_count": 7,
      "metadata": {},
      "outputs": [
        {
          "name": "stdout",
          "output_type": "stream",
          "text": [
            "Average Degree: 19.582884558895525\n"
          ]
        }
      ],
      "source": [
        "average_degree = sum(degree_sequence) / len(degree_sequence)\n",
        "print(f\"Average Degree: {average_degree}\")"
      ]
    },
    {
      "cell_type": "code",
      "execution_count": 8,
      "metadata": {},
      "outputs": [
        {
          "name": "stdout",
          "output_type": "stream",
          "text": [
            "Density: 0.0019176346023203608\n"
          ]
        }
      ],
      "source": [
        "density = nx.density(B_sampled)\n",
        "print(f\"Density: {density}\")\n"
      ]
    },
    {
      "cell_type": "code",
      "execution_count": 9,
      "metadata": {},
      "outputs": [
        {
          "name": "stdout",
          "output_type": "stream",
          "text": [
            "Clustering Coefficient: 0.0\n"
          ]
        }
      ],
      "source": [
        "clustering_coefficient = nx.average_clustering(B_sampled)\n",
        "print(f\"Clustering Coefficient: {clustering_coefficient}\")"
      ]
    },
    {
      "cell_type": "code",
      "execution_count": 10,
      "metadata": {},
      "outputs": [
        {
          "name": "stdout",
          "output_type": "stream",
          "text": [
            "Number of Connected Components: 1\n"
          ]
        }
      ],
      "source": [
        "num_connected_components = nx.number_connected_components(B_sampled)\n",
        "print(f\"Number of Connected Components: {num_connected_components}\")"
      ]
    },
    {
      "cell_type": "code",
      "execution_count": 11,
      "metadata": {},
      "outputs": [
        {
          "name": "stdout",
          "output_type": "stream",
          "text": [
            "Assortativity: -0.08180313560668638\n"
          ]
        }
      ],
      "source": [
        "assortativity = nx.degree_assortativity_coefficient(B_sampled)\n",
        "print(f\"Assortativity: {assortativity}\")"
      ]
    },
    {
      "cell_type": "code",
      "execution_count": 12,
      "metadata": {},
      "outputs": [
        {
          "name": "stdout",
          "output_type": "stream",
          "text": [
            "Average Local Clustering Coefficient: 0.0\n"
          ]
        }
      ],
      "source": [
        "\n",
        "local_clustering = nx.clustering(B_sampled)\n",
        "local_clustering_avg = sum(local_clustering.values()) / len(local_clustering)\n",
        "print(f\"Average Local Clustering Coefficient: {local_clustering_avg}\")"
      ]
    },
    {
      "cell_type": "code",
      "execution_count": 13,
      "metadata": {},
      "outputs": [],
      "source": [
        "import networkx as nx\n",
        "import pickle\n",
        "\n",
        "def centrality_measures(graph):\n",
        "    degree_centrality = nx.degree_centrality(graph)\n",
        "    betweenness_centrality = nx.betweenness_centrality(graph)\n",
        "    closeness_centrality = nx.closeness_centrality(graph)\n",
        "    \n",
        "    # Save the centrality measures to files\n",
        "    with open('degree_centrality.pkl', 'wb') as f:\n",
        "        pickle.dump(degree_centrality, f)\n",
        "        \n",
        "    with open('betweenness_centrality.pkl', 'wb') as f:\n",
        "        pickle.dump(betweenness_centrality, f)\n",
        "        \n",
        "    with open('closeness_centrality.pkl', 'wb') as f:\n",
        "        pickle.dump(closeness_centrality, f)\n",
        "\n",
        "\n",
        "centrality_measures(B_sampled)\n"
      ]
    },
    {
      "cell_type": "code",
      "execution_count": 14,
      "metadata": {},
      "outputs": [
        {
          "name": "stdout",
          "output_type": "stream",
          "text": [
            "Degree Centrality - Mean: 0.0019176346023200468, Median: 0.000881316098707403, Max: 0.05679592636114375, Min: 9.792401096748923e-05\n",
            "Betweenness Centrality - Mean: 0.0002574216689521402, Median: 1.2738740901145195e-05, Max: 0.040972650037435526, Min: 0.0\n",
            "Closeness Centrality - Mean: 0.2786519051234667, Median: 0.2694103680253265, Max: 0.3727687534221573, Min: 0.17770817019055077\n"
          ]
        },
        {
          "data": {
            "image/png": "[encoded data removed]",
            "text/plain": [
              "<Figure size 640x480 with 1 Axes>"
            ]
          },
          "metadata": {},
          "output_type": "display_data"
        },
        {
          "data": {
            "image/png": "[encoded data removed]",
            "text/plain": [
              "<Figure size 640x480 with 1 Axes>"
            ]
          },
          "metadata": {},
          "output_type": "display_data"
        },
        {
          "data": {
            "image/png": "[encoded data removed]",
            "text/plain": [
              "<Figure size 640x480 with 1 Axes>"
            ]
          },
          "metadata": {},
          "output_type": "display_data"
        }
      ],
      "source": [
        "def load_centrality_measures():\n",
        "    with open('degree_centrality.pkl', 'rb') as f:\n",
        "        degree_centrality = pickle.load(f)\n",
        "        \n",
        "    with open('betweenness_centrality.pkl', 'rb') as f:\n",
        "        betweenness_centrality = pickle.load(f)\n",
        "        \n",
        "    with open('closeness_centrality.pkl', 'rb') as f:\n",
        "        closeness_centrality = pickle.load(f)\n",
        "        \n",
        "    return degree_centrality, betweenness_centrality, closeness_centrality\n",
        "\n",
        "# Load the centrality measures\n",
        "degree_centrality, betweenness_centrality, closeness_centrality = load_centrality_measures()\n",
        "\n",
        "# Convert the centrality measures to lists for easier statistical analysis\n",
        "degree_values = list(degree_centrality.values())\n",
        "betweenness_values = list(betweenness_centrality.values())\n",
        "closeness_values = list(closeness_centrality.values())\n",
        "\n",
        "# Calculate statistics\n",
        "def calculate_statistics(values):\n",
        "    mean_value = sum(values) / len(values)\n",
        "    median_value = sorted(values)[len(values) // 2]\n",
        "    max_value = max(values)\n",
        "    min_value = min(values)\n",
        "    return mean_value, median_value, max_value, min_value\n",
        "\n",
        "degree_stats = calculate_statistics(degree_values)\n",
        "betweenness_stats = calculate_statistics(betweenness_values)\n",
        "closeness_stats = calculate_statistics(closeness_values)\n",
        "\n",
        "# Display statistics\n",
        "print(f'Degree Centrality - Mean: {degree_stats[0]}, Median: {degree_stats[1]}, Max: {degree_stats[2]}, Min: {degree_stats[3]}')\n",
        "print(f'Betweenness Centrality - Mean: {betweenness_stats[0]}, Median: {betweenness_stats[1]}, Max: {betweenness_stats[2]}, Min: {betweenness_stats[3]}')\n",
        "print(f'Closeness Centrality - Mean: {closeness_stats[0]}, Median: {closeness_stats[1]}, Max: {closeness_stats[2]}, Min: {closeness_stats[3]}')\n",
        "\n",
        "# Plot distributions\n",
        "def plot_distribution(values, title):\n",
        "    plt.figure()\n",
        "    plt.hist(values, bins=30, edgecolor='black')\n",
        "    plt.title(title)\n",
        "    plt.xlabel('Centrality Value')\n",
        "    plt.ylabel('Frequency')\n",
        "    plt.show()\n",
        "\n",
        "plot_distribution(degree_values, 'Degree Centrality Distribution')\n",
        "plot_distribution(betweenness_values, 'Betweenness Centrality Distribution')\n",
        "plot_distribution(closeness_values, 'Closeness Centrality Distribution')"
      ]
    },
    {
      "cell_type": "markdown",
      "metadata": {},
      "source": [
        "####  BIPARTITE METRIcS"
      ]
    },
    {
      "cell_type": "code",
      "execution_count": 8,
      "metadata": {},
      "outputs": [
        {
          "name": "stdout",
          "output_type": "stream",
          "text": [
            "Average Degree (User Nodes): 21.920210434020166\n",
            "Average Degree (Book Nodes): 12.764871074802144\n",
            "Bipartite Density: 0.002798086601228002\n",
            "User-User Projection (first 5 edges):\n",
            "(49156, 40971, {'weight': 2})\n",
            "(49156, 24590, {'weight': 3})\n",
            "(49156, 12306, {'weight': 5})\n",
            "(49156, 24597, {'weight': 2})\n",
            "(49156, 36885, {'weight': 4})\n",
            "Book-Book Projection (first 5 edges):\n",
            "(1, 2, {'weight': 150})\n",
            "(1, 3, {'weight': 95})\n",
            "(1, 4, {'weight': 116})\n",
            "(1, 5, {'weight': 68})\n",
            "(1, 6, {'weight': 67})\n"
          ]
        }
      ],
      "source": [
        "import networkx as nx\n",
        "import numpy as np\n",
        "from networkx.algorithms import bipartite\n",
        "\n",
        "\n",
        "# Separate the nodes into the two bipartite sets\n",
        "user_nodes = {n for n, d in B_sampled.nodes(data=True) if d['bipartite'] == 0}\n",
        "book_nodes = {n for n, d in B_sampled.nodes(data=True) if d['bipartite'] == 1}\n",
        "\n",
        "# Degree Distribution\n",
        "avg_degree_users = np.mean([d for n, d in B_sampled.degree(user_nodes)])\n",
        "avg_degree_books = np.mean([d for n, d in B_sampled.degree(book_nodes)])\n",
        "\n",
        "# Bipartite Density\n",
        "bipartite_density = bipartite.density(B_sampled, user_nodes)\n",
        "\n",
        "# User-User Projection\n",
        "user_user_proj = bipartite.weighted_projected_graph(B_sampled, user_nodes)\n",
        "\n",
        "# Book-Book Projection\n",
        "book_book_proj = bipartite.weighted_projected_graph(B_sampled, book_nodes)\n",
        "\n",
        "# Print results\n",
        "print(f'Average Degree (User Nodes): {avg_degree_users}')\n",
        "print(f'Average Degree (Book Nodes): {avg_degree_books}')\n",
        "print(f'Bipartite Density: {bipartite_density}')\n",
        "# Print sample of edges\n",
        "print('User-User Projection (first 5 edges):')\n",
        "for edge in list(user_user_proj.edges(data=True))[:5]:\n",
        "    print(edge)\n",
        "\n",
        "print('Book-Book Projection (first 5 edges):')\n",
        "for edge in list(book_book_proj.edges(data=True))[:5]:\n",
        "    print(edge)\n"
      ]
    }
  ],
  "metadata": {
    "colab": {
      "provenance": []
    },
    "kernelspec": {
      "display_name": "Python 3",
      "name": "python3"
    },
    "language_info": {
      "codemirror_mode": {
        "name": "ipython",
        "version": 3
      },
      "file_extension": ".py",
      "mimetype": "text/x-python",
      "name": "python",
      "nbconvert_exporter": "python",
      "pygments_lexer": "ipython3",
      "version": "3.11.5"
    }
  },
  "nbformat": 4,
  "nbformat_minor": 0
}
