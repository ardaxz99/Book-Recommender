{
  "cells": [
    {
      "cell_type": "code",
      "execution_count": 4,
      "metadata": {},
      "outputs": [],
      "source": [
        "import pandas as pd\n",
        "import numpy as np\n",
        "import networkx as nx\n",
        "import torch\n",
        "from sklearn.preprocessing import OneHotEncoder, MinMaxScaler, MultiLabelBinarizer\n",
        "from sklearn.metrics.pairwise import cosine_similarity\n",
        "from scipy.sparse import hstack\n",
        "from gensim.models import Word2Vec\n",
        "import gensim\n",
        "from scipy.sparse import csr_matrix\n",
        "from libreco.algorithms import ItemCF\n",
        "from libreco.data import DatasetPure\n",
        "from libreco.evaluation import evaluate\n",
        "import tensorflow as tf\n"
      ]
    },
    {
      "cell_type": "code",
      "execution_count": 2,
      "metadata": {
        "id": "YDNETyBjrBla"
      },
      "outputs": [
        {
          "name": "stderr",
          "output_type": "stream",
          "text": [
            "C:\\Users\\duval\\AppData\\Local\\Temp\\ipykernel_17124\\1331159700.py:58: DeprecationWarning: DataFrameGroupBy.apply operated on the grouping columns. This behavior is deprecated, and in a future version of pandas the grouping columns will be excluded from the operation. Either pass `include_groups=False` to exclude the groupings or explicitly select the grouping columns after groupby to silence this warning.\n",
            "  split_indices = ratings.groupby('user_id').apply(lambda x: split_function(x, shot if strategy != 'percentage' else percentage))\n"
          ]
        },
        {
          "name": "stdout",
          "output_type": "stream",
          "text": [
            "Training start time: \u001b[35m2024-06-05 10:49:43\u001b[0m\n",
            "Final block size and num: (7834, 1)\n",
            "sim_matrix elapsed: 1.625s\n",
            "sim_matrix, shape: (7834, 7834), num_elements: 11293474, density: 39.5749 %\n"
          ]
        },
        {
          "name": "stderr",
          "output_type": "stream",
          "text": [
            "top_k: 100%|██████████| 7834/7834 [00:07<00:00, 1057.81it/s]\n",
            "eval_pointwise:   0%|          | 0/14 [00:00<?, ?it/s]"
          ]
        },
        {
          "name": "stdout",
          "output_type": "stream",
          "text": [
            "\u001b[31mNo common interaction or similar neighbor for user 28 and item 244, proceed with default prediction\u001b[0m\n",
            "\u001b[31mNo common interaction or similar neighbor for user 28 and item 479, proceed with default prediction\u001b[0m\n",
            "\u001b[31mNo common interaction or similar neighbor for user 28 and item 2971, proceed with default prediction\u001b[0m\n",
            "\u001b[31mNo common interaction or similar neighbor for user 28 and item 794, proceed with default prediction\u001b[0m\n",
            "\u001b[31mNo common interaction or similar neighbor for user 28 and item 455, proceed with default prediction\u001b[0m\n",
            "\u001b[31mNo common interaction or similar neighbor for user 28 and item 8, proceed with default prediction\u001b[0m\n"
          ]
        },
        {
          "name": "stderr",
          "output_type": "stream",
          "text": [
            "eval_pointwise: 100%|██████████| 14/14 [00:22<00:00,  1.58s/it]\n"
          ]
        },
        {
          "name": "stdout",
          "output_type": "stream",
          "text": [
            "\t eval rmse: 1.0540\n",
            "\t eval mae: 0.7945\n",
            "\t eval r2: -0.1327\n",
            "==============================\n"
          ]
        },
        {
          "name": "stderr",
          "output_type": "stream",
          "text": [
            "eval_pointwise: 100%|██████████| 14/14 [00:24<00:00,  1.77s/it]\n",
            "C:\\Users\\duval\\AppData\\Local\\Temp\\ipykernel_17124\\1331159700.py:58: DeprecationWarning: DataFrameGroupBy.apply operated on the grouping columns. This behavior is deprecated, and in a future version of pandas the grouping columns will be excluded from the operation. Either pass `include_groups=False` to exclude the groupings or explicitly select the grouping columns after groupby to silence this warning.\n",
            "  split_indices = ratings.groupby('user_id').apply(lambda x: split_function(x, shot if strategy != 'percentage' else percentage))\n"
          ]
        },
        {
          "name": "stdout",
          "output_type": "stream",
          "text": [
            "Training start time: \u001b[35m2024-06-05 10:51:04\u001b[0m\n",
            "Final block size and num: (7834, 1)\n",
            "sim_matrix elapsed: 0.581s\n",
            "sim_matrix, shape: (7834, 7834), num_elements: 688834, density: 2.4138 %\n"
          ]
        },
        {
          "name": "stderr",
          "output_type": "stream",
          "text": [
            "top_k: 100%|██████████| 7834/7834 [00:00<00:00, 17623.64it/s]\n",
            "eval_pointwise:   0%|          | 0/57 [00:00<?, ?it/s]"
          ]
        },
        {
          "name": "stdout",
          "output_type": "stream",
          "text": [
            "\u001b[31mNo common interaction or similar neighbor for user 0 and item 1316, proceed with default prediction\u001b[0m\n",
            "\u001b[31mNo common interaction or similar neighbor for user 0 and item 452, proceed with default prediction\u001b[0m\n",
            "\u001b[31mNo common interaction or similar neighbor for user 0 and item 2641, proceed with default prediction\u001b[0m\n",
            "\u001b[31mNo common interaction or similar neighbor for user 0 and item 580, proceed with default prediction\u001b[0m\n",
            "\u001b[31mNo common interaction or similar neighbor for user 0 and item 185, proceed with default prediction\u001b[0m\n",
            "\u001b[31mNo common interaction or similar neighbor for user 0 and item 13, proceed with default prediction\u001b[0m\n"
          ]
        },
        {
          "name": "stderr",
          "output_type": "stream",
          "text": [
            "eval_pointwise: 100%|██████████| 57/57 [00:34<00:00,  1.67it/s]\n"
          ]
        },
        {
          "name": "stdout",
          "output_type": "stream",
          "text": [
            "\t eval rmse: 1.0449\n",
            "==============================\n"
          ]
        },
        {
          "name": "stderr",
          "output_type": "stream",
          "text": [
            "eval_pointwise: 100%|██████████| 57/57 [00:35<00:00,  1.62it/s]\n",
            "C:\\Users\\duval\\AppData\\Local\\Temp\\ipykernel_17124\\1331159700.py:58: DeprecationWarning: DataFrameGroupBy.apply operated on the grouping columns. This behavior is deprecated, and in a future version of pandas the grouping columns will be excluded from the operation. Either pass `include_groups=False` to exclude the groupings or explicitly select the grouping columns after groupby to silence this warning.\n",
            "  split_indices = ratings.groupby('user_id').apply(lambda x: split_function(x, shot if strategy != 'percentage' else percentage))\n"
          ]
        },
        {
          "name": "stdout",
          "output_type": "stream",
          "text": [
            "Training start time: \u001b[35m2024-06-05 10:52:23\u001b[0m\n",
            "Final block size and num: (7834, 1)\n",
            "sim_matrix elapsed: 0.494s\n",
            "sim_matrix, shape: (7834, 7834), num_elements: 678110, density: 2.3763 %\n"
          ]
        },
        {
          "name": "stderr",
          "output_type": "stream",
          "text": [
            "top_k: 100%|██████████| 7834/7834 [00:00<00:00, 22222.31it/s]\n",
            "eval_pointwise:   0%|          | 0/57 [00:00<?, ?it/s]"
          ]
        },
        {
          "name": "stdout",
          "output_type": "stream",
          "text": [
            "\u001b[31mNo common interaction or similar neighbor for user 0 and item 1316, proceed with default prediction\u001b[0m\n",
            "\u001b[31mNo common interaction or similar neighbor for user 0 and item 452, proceed with default prediction\u001b[0m\n",
            "\u001b[31mNo common interaction or similar neighbor for user 0 and item 2641, proceed with default prediction\u001b[0m\n",
            "\u001b[31mNo common interaction or similar neighbor for user 0 and item 580, proceed with default prediction\u001b[0m\n",
            "\u001b[31mNo common interaction or similar neighbor for user 0 and item 3938, proceed with default prediction\u001b[0m\n",
            "\u001b[31mNo common interaction or similar neighbor for user 0 and item 185, proceed with default prediction\u001b[0m\n"
          ]
        },
        {
          "name": "stderr",
          "output_type": "stream",
          "text": [
            "eval_pointwise: 100%|██████████| 57/57 [00:43<00:00,  1.31it/s]\n"
          ]
        },
        {
          "name": "stdout",
          "output_type": "stream",
          "text": [
            "\t eval rmse: 1.0989\n",
            "==============================\n"
          ]
        },
        {
          "name": "stderr",
          "output_type": "stream",
          "text": [
            "eval_pointwise: 100%|██████████| 57/57 [00:43<00:00,  1.30it/s]\n",
            "C:\\Users\\duval\\AppData\\Local\\Temp\\ipykernel_17124\\1331159700.py:58: DeprecationWarning: DataFrameGroupBy.apply operated on the grouping columns. This behavior is deprecated, and in a future version of pandas the grouping columns will be excluded from the operation. Either pass `include_groups=False` to exclude the groupings or explicitly select the grouping columns after groupby to silence this warning.\n",
            "  split_indices = ratings.groupby('user_id').apply(lambda x: split_function(x, shot if strategy != 'percentage' else percentage))\n"
          ]
        },
        {
          "name": "stdout",
          "output_type": "stream",
          "text": [
            "Training start time: \u001b[35m2024-06-05 10:54:00\u001b[0m\n",
            "Final block size and num: (7834, 1)\n",
            "sim_matrix elapsed: 0.547s\n",
            "sim_matrix, shape: (7834, 7834), num_elements: 1578720, density: 5.5322 %\n"
          ]
        },
        {
          "name": "stderr",
          "output_type": "stream",
          "text": [
            "top_k: 100%|██████████| 7834/7834 [00:00<00:00, 10889.66it/s]\n",
            "eval_pointwise:   0%|          | 0/52 [00:00<?, ?it/s]"
          ]
        },
        {
          "name": "stdout",
          "output_type": "stream",
          "text": [
            "\u001b[31mNo common interaction or similar neighbor for user 0 and item 1316, proceed with default prediction\u001b[0m\n",
            "\u001b[31mNo common interaction or similar neighbor for user 0 and item 452, proceed with default prediction\u001b[0m\n",
            "\u001b[31mNo common interaction or similar neighbor for user 0 and item 2641, proceed with default prediction\u001b[0m\n",
            "\u001b[31mNo common interaction or similar neighbor for user 0 and item 580, proceed with default prediction\u001b[0m\n",
            "\u001b[31mNo common interaction or similar neighbor for user 0 and item 3938, proceed with default prediction\u001b[0m\n",
            "\u001b[31mNo common interaction or similar neighbor for user 0 and item 7225, proceed with default prediction\u001b[0m\n"
          ]
        },
        {
          "name": "stderr",
          "output_type": "stream",
          "text": [
            "eval_pointwise: 100%|██████████| 52/52 [00:52<00:00,  1.01s/it]\n"
          ]
        },
        {
          "name": "stdout",
          "output_type": "stream",
          "text": [
            "\t eval rmse: 1.1346\n",
            "==============================\n"
          ]
        },
        {
          "name": "stderr",
          "output_type": "stream",
          "text": [
            "eval_pointwise: 100%|██████████| 52/52 [01:00<00:00,  1.17s/it]\n",
            "C:\\Users\\duval\\AppData\\Local\\Temp\\ipykernel_17124\\1331159700.py:58: DeprecationWarning: DataFrameGroupBy.apply operated on the grouping columns. This behavior is deprecated, and in a future version of pandas the grouping columns will be excluded from the operation. Either pass `include_groups=False` to exclude the groupings or explicitly select the grouping columns after groupby to silence this warning.\n",
            "  split_indices = ratings.groupby('user_id').apply(lambda x: split_function(x, shot if strategy != 'percentage' else percentage))\n"
          ]
        },
        {
          "name": "stdout",
          "output_type": "stream",
          "text": [
            "Training start time: \u001b[35m2024-06-05 10:56:15\u001b[0m\n",
            "Final block size and num: (7834, 1)\n",
            "sim_matrix elapsed: 0.815s\n",
            "sim_matrix, shape: (7834, 7834), num_elements: 1446082, density: 5.0674 %\n"
          ]
        },
        {
          "name": "stderr",
          "output_type": "stream",
          "text": [
            "top_k: 100%|██████████| 7834/7834 [00:01<00:00, 7640.40it/s]\n",
            "eval_pointwise:   0%|          | 0/53 [00:00<?, ?it/s]"
          ]
        },
        {
          "name": "stdout",
          "output_type": "stream",
          "text": [
            "\u001b[31mNo common interaction or similar neighbor for user 0 and item 1316, proceed with default prediction\u001b[0m\n",
            "\u001b[31mNo common interaction or similar neighbor for user 0 and item 728, proceed with default prediction\u001b[0m\n",
            "\u001b[31mNo common interaction or similar neighbor for user 0 and item 733, proceed with default prediction\u001b[0m\n",
            "\u001b[31mNo common interaction or similar neighbor for user 0 and item 1754, proceed with default prediction\u001b[0m\n",
            "\u001b[31mNo common interaction or similar neighbor for user 0 and item 465, proceed with default prediction\u001b[0m\n",
            "\u001b[31mNo common interaction or similar neighbor for user 0 and item 1780, proceed with default prediction\u001b[0m\n"
          ]
        },
        {
          "name": "stderr",
          "output_type": "stream",
          "text": [
            "eval_pointwise: 100%|██████████| 53/53 [01:02<00:00,  1.18s/it]\n"
          ]
        },
        {
          "name": "stdout",
          "output_type": "stream",
          "text": [
            "\t eval rmse: 1.1610\n",
            "==============================\n"
          ]
        },
        {
          "name": "stderr",
          "output_type": "stream",
          "text": [
            "eval_pointwise: 100%|██████████| 53/53 [01:13<00:00,  1.39s/it]\n",
            "C:\\Users\\duval\\AppData\\Local\\Temp\\ipykernel_17124\\1331159700.py:58: DeprecationWarning: DataFrameGroupBy.apply operated on the grouping columns. This behavior is deprecated, and in a future version of pandas the grouping columns will be excluded from the operation. Either pass `include_groups=False` to exclude the groupings or explicitly select the grouping columns after groupby to silence this warning.\n",
            "  split_indices = ratings.groupby('user_id').apply(lambda x: split_function(x, shot if strategy != 'percentage' else percentage))\n"
          ]
        },
        {
          "name": "stdout",
          "output_type": "stream",
          "text": [
            "Training start time: \u001b[35m2024-06-05 10:58:57\u001b[0m\n",
            "Final block size and num: (7834, 1)\n",
            "sim_matrix elapsed: 0.845s\n",
            "sim_matrix, shape: (7834, 7834), num_elements: 963372, density: 3.3759 %\n"
          ]
        },
        {
          "name": "stderr",
          "output_type": "stream",
          "text": [
            "top_k: 100%|██████████| 7834/7834 [00:00<00:00, 10239.54it/s]\n",
            "eval_pointwise:   0%|          | 0/55 [00:00<?, ?it/s]"
          ]
        },
        {
          "name": "stdout",
          "output_type": "stream",
          "text": [
            "\u001b[31mNo common interaction or similar neighbor for user 0 and item 1316, proceed with default prediction\u001b[0m\n",
            "\u001b[31mNo common interaction or similar neighbor for user 0 and item 728, proceed with default prediction\u001b[0m\n",
            "\u001b[31mNo common interaction or similar neighbor for user 0 and item 1754, proceed with default prediction\u001b[0m\n",
            "\u001b[31mNo common interaction or similar neighbor for user 0 and item 1780, proceed with default prediction\u001b[0m\n",
            "\u001b[31mNo common interaction or similar neighbor for user 0 and item 4572, proceed with default prediction\u001b[0m\n",
            "\u001b[31mNo common interaction or similar neighbor for user 0 and item 969, proceed with default prediction\u001b[0m\n"
          ]
        },
        {
          "name": "stderr",
          "output_type": "stream",
          "text": [
            "eval_pointwise: 100%|██████████| 55/55 [01:27<00:00,  1.60s/it]\n"
          ]
        },
        {
          "name": "stdout",
          "output_type": "stream",
          "text": [
            "\t eval rmse: 1.3513\n",
            "==============================\n"
          ]
        },
        {
          "name": "stderr",
          "output_type": "stream",
          "text": [
            "eval_pointwise: 100%|██████████| 55/55 [01:29<00:00,  1.63s/it]\n",
            "C:\\Users\\duval\\AppData\\Local\\Temp\\ipykernel_17124\\1331159700.py:58: DeprecationWarning: DataFrameGroupBy.apply operated on the grouping columns. This behavior is deprecated, and in a future version of pandas the grouping columns will be excluded from the operation. Either pass `include_groups=False` to exclude the groupings or explicitly select the grouping columns after groupby to silence this warning.\n",
            "  split_indices = ratings.groupby('user_id').apply(lambda x: split_function(x, shot if strategy != 'percentage' else percentage))\n"
          ]
        },
        {
          "name": "stdout",
          "output_type": "stream",
          "text": [
            "Training start time: \u001b[35m2024-06-05 11:02:18\u001b[0m\n",
            "Final block size and num: (7834, 1)\n",
            "sim_matrix elapsed: 0.797s\n",
            "sim_matrix, shape: (7834, 7834), num_elements: 1422724, density: 4.9855 %\n"
          ]
        },
        {
          "name": "stderr",
          "output_type": "stream",
          "text": [
            "top_k: 100%|██████████| 7834/7834 [00:01<00:00, 7394.23it/s] \n",
            "eval_pointwise:   0%|          | 0/51 [00:00<?, ?it/s]"
          ]
        },
        {
          "name": "stdout",
          "output_type": "stream",
          "text": [
            "\u001b[31mNo common interaction or similar neighbor for user 0 and item 5149, proceed with default prediction\u001b[0m\n",
            "\u001b[31mNo common interaction or similar neighbor for user 0 and item 1754, proceed with default prediction\u001b[0m\n",
            "\u001b[31mNo common interaction or similar neighbor for user 0 and item 2439, proceed with default prediction\u001b[0m\n",
            "\u001b[31mNo common interaction or similar neighbor for user 0 and item 5245, proceed with default prediction\u001b[0m\n",
            "\u001b[31mNo common interaction or similar neighbor for user 0 and item 3841, proceed with default prediction\u001b[0m\n",
            "\u001b[31mNo common interaction or similar neighbor for user 1 and item 3486, proceed with default prediction\u001b[0m\n"
          ]
        },
        {
          "name": "stderr",
          "output_type": "stream",
          "text": [
            "eval_pointwise: 100%|██████████| 51/51 [01:19<00:00,  1.56s/it]\n"
          ]
        },
        {
          "name": "stdout",
          "output_type": "stream",
          "text": [
            "\t eval rmse: 1.4963\n",
            "==============================\n"
          ]
        },
        {
          "name": "stderr",
          "output_type": "stream",
          "text": [
            "eval_pointwise: 100%|██████████| 51/51 [01:09<00:00,  1.36s/it]\n",
            "C:\\Users\\duval\\AppData\\Local\\Temp\\ipykernel_17124\\1331159700.py:58: DeprecationWarning: DataFrameGroupBy.apply operated on the grouping columns. This behavior is deprecated, and in a future version of pandas the grouping columns will be excluded from the operation. Either pass `include_groups=False` to exclude the groupings or explicitly select the grouping columns after groupby to silence this warning.\n",
            "  split_indices = ratings.groupby('user_id').apply(lambda x: split_function(x, shot if strategy != 'percentage' else percentage))\n"
          ]
        },
        {
          "name": "stdout",
          "output_type": "stream",
          "text": [
            "Training start time: \u001b[35m2024-06-05 11:05:06\u001b[0m\n",
            "Final block size and num: (7834, 1)\n",
            "sim_matrix elapsed: 0.687s\n",
            "sim_matrix, shape: (7834, 7834), num_elements: 1262400, density: 4.4237 %\n"
          ]
        },
        {
          "name": "stderr",
          "output_type": "stream",
          "text": [
            "top_k: 100%|██████████| 7834/7834 [00:00<00:00, 10072.49it/s]\n",
            "eval_pointwise:   0%|          | 0/54 [00:00<?, ?it/s]"
          ]
        },
        {
          "name": "stdout",
          "output_type": "stream",
          "text": [
            "\u001b[31mNo common interaction or similar neighbor for user 0 and item 2406, proceed with default prediction\u001b[0m\n",
            "\u001b[31mNo common interaction or similar neighbor for user 0 and item 452, proceed with default prediction\u001b[0m\n",
            "\u001b[31mNo common interaction or similar neighbor for user 0 and item 2641, proceed with default prediction\u001b[0m\n",
            "\u001b[31mNo common interaction or similar neighbor for user 0 and item 3938, proceed with default prediction\u001b[0m\n",
            "\u001b[31mNo common interaction or similar neighbor for user 0 and item 728, proceed with default prediction\u001b[0m\n",
            "\u001b[31mNo common interaction or similar neighbor for user 0 and item 465, proceed with default prediction\u001b[0m\n"
          ]
        },
        {
          "name": "stderr",
          "output_type": "stream",
          "text": [
            "eval_pointwise: 100%|██████████| 54/54 [00:38<00:00,  1.40it/s]\n"
          ]
        },
        {
          "name": "stdout",
          "output_type": "stream",
          "text": [
            "\t eval rmse: 1.4268\n",
            "==============================\n"
          ]
        },
        {
          "name": "stderr",
          "output_type": "stream",
          "text": [
            "eval_pointwise: 100%|██████████| 54/54 [00:37<00:00,  1.43it/s]\n",
            "C:\\Users\\duval\\AppData\\Local\\Temp\\ipykernel_17124\\1331159700.py:58: DeprecationWarning: DataFrameGroupBy.apply operated on the grouping columns. This behavior is deprecated, and in a future version of pandas the grouping columns will be excluded from the operation. Either pass `include_groups=False` to exclude the groupings or explicitly select the grouping columns after groupby to silence this warning.\n",
            "  split_indices = ratings.groupby('user_id').apply(lambda x: split_function(x, shot if strategy != 'percentage' else percentage))\n"
          ]
        },
        {
          "name": "stdout",
          "output_type": "stream",
          "text": [
            "Training start time: \u001b[35m2024-06-05 11:06:39\u001b[0m\n",
            "Final block size and num: (7834, 1)\n",
            "sim_matrix elapsed: 0.627s\n",
            "sim_matrix, shape: (7834, 7834), num_elements: 898786, density: 3.1496 %\n"
          ]
        },
        {
          "name": "stderr",
          "output_type": "stream",
          "text": [
            "top_k: 100%|██████████| 7834/7834 [00:00<00:00, 14953.08it/s]\n",
            "eval_pointwise:   0%|          | 0/56 [00:00<?, ?it/s]"
          ]
        },
        {
          "name": "stdout",
          "output_type": "stream",
          "text": [
            "\u001b[31mNo common interaction or similar neighbor for user 0 and item 2406, proceed with default prediction\u001b[0m\n",
            "\u001b[31mNo common interaction or similar neighbor for user 0 and item 1316, proceed with default prediction\u001b[0m\n",
            "\u001b[31mNo common interaction or similar neighbor for user 0 and item 452, proceed with default prediction\u001b[0m\n",
            "\u001b[31mNo common interaction or similar neighbor for user 0 and item 2641, proceed with default prediction\u001b[0m\n",
            "\u001b[31mNo common interaction or similar neighbor for user 0 and item 5149, proceed with default prediction\u001b[0m\n",
            "\u001b[31mNo common interaction or similar neighbor for user 0 and item 580, proceed with default prediction\u001b[0m\n"
          ]
        },
        {
          "name": "stderr",
          "output_type": "stream",
          "text": [
            "eval_pointwise: 100%|██████████| 56/56 [00:49<00:00,  1.14it/s]\n"
          ]
        },
        {
          "name": "stdout",
          "output_type": "stream",
          "text": [
            "\t eval rmse: 1.7394\n",
            "==============================\n"
          ]
        },
        {
          "name": "stderr",
          "output_type": "stream",
          "text": [
            "eval_pointwise: 100%|██████████| 56/56 [00:50<00:00,  1.11it/s]\n",
            "C:\\Users\\duval\\AppData\\Local\\Temp\\ipykernel_17124\\1331159700.py:58: DeprecationWarning: DataFrameGroupBy.apply operated on the grouping columns. This behavior is deprecated, and in a future version of pandas the grouping columns will be excluded from the operation. Either pass `include_groups=False` to exclude the groupings or explicitly select the grouping columns after groupby to silence this warning.\n",
            "  split_indices = ratings.groupby('user_id').apply(lambda x: split_function(x, shot if strategy != 'percentage' else percentage))\n"
          ]
        },
        {
          "name": "stdout",
          "output_type": "stream",
          "text": [
            "Training start time: \u001b[35m2024-06-05 11:08:35\u001b[0m\n",
            "Final block size and num: (7834, 1)\n",
            "sim_matrix elapsed: 0.681s\n",
            "sim_matrix, shape: (7834, 7834), num_elements: 1576178, density: 5.5233 %\n"
          ]
        },
        {
          "name": "stderr",
          "output_type": "stream",
          "text": [
            "top_k: 100%|██████████| 7834/7834 [00:00<00:00, 9449.58it/s] \n",
            "eval_pointwise:   0%|          | 0/52 [00:00<?, ?it/s]"
          ]
        },
        {
          "name": "stdout",
          "output_type": "stream",
          "text": [
            "\u001b[31mNo common interaction or similar neighbor for user 0 and item 2641, proceed with default prediction\u001b[0m\n",
            "\u001b[31mNo common interaction or similar neighbor for user 0 and item 7225, proceed with default prediction\u001b[0m\n",
            "\u001b[31mNo common interaction or similar neighbor for user 0 and item 1780, proceed with default prediction\u001b[0m\n",
            "\u001b[31mNo common interaction or similar neighbor for user 0 and item 2439, proceed with default prediction\u001b[0m\n",
            "\u001b[31mNo common interaction or similar neighbor for user 0 and item 969, proceed with default prediction\u001b[0m\n",
            "\u001b[31mNo common interaction or similar neighbor for user 0 and item 3404, proceed with default prediction\u001b[0m\n"
          ]
        },
        {
          "name": "stderr",
          "output_type": "stream",
          "text": [
            "eval_pointwise: 100%|██████████| 52/52 [00:55<00:00,  1.06s/it]\n"
          ]
        },
        {
          "name": "stdout",
          "output_type": "stream",
          "text": [
            "\t eval rmse: 1.7619\n",
            "==============================\n"
          ]
        },
        {
          "name": "stderr",
          "output_type": "stream",
          "text": [
            "eval_pointwise: 100%|██████████| 52/52 [00:58<00:00,  1.12s/it]\n"
          ]
        },
        {
          "name": "stdout",
          "output_type": "stream",
          "text": [
            "Evaluation Results:\n",
            "Strategy: percentage, Shot: N/A -> RMSE: 1.0539861187524306, MAE: 0.7945131695897745, R2: -0.13268499214312235\n",
            "Strategy: random, Shot: 5 -> RMSE: 1.044919659373139, MAE: 0.7865129403609562, R2: -0.10417858502655286\n",
            "Strategy: random, Shot: 10 -> RMSE: 1.0989339662173248, MAE: 0.8149226025567365, R2: -0.22332417092307488\n",
            "Strategy: random, Shot: 20 -> RMSE: 1.1346193078123044, MAE: 0.8376664567738791, R2: -0.30539548742247336\n",
            "Strategy: highest, Shot: 5 -> RMSE: 1.1610378964431154, MAE: 0.8470585097871917, R2: -0.3802461883175159\n",
            "Strategy: highest, Shot: 10 -> RMSE: 1.3513243899272178, MAE: 1.0370586574942349, R2: -0.9046459198015355\n",
            "Strategy: highest, Shot: 20 -> RMSE: 1.496263470840182, MAE: 1.186028908071214, R2: -1.4295537691731166\n",
            "Strategy: lowest, Shot: 5 -> RMSE: 1.4267508937992799, MAE: 1.1324913469428382, R2: -1.5174522127537737\n",
            "Strategy: lowest, Shot: 10 -> RMSE: 1.7393879163251191, MAE: 1.4592167203196749, R2: -3.310013774453882\n",
            "Strategy: lowest, Shot: 20 -> RMSE: 1.7618626202265535, MAE: 1.5180183992763272, R2: -4.390518046480209\n"
          ]
        }
      ],
      "source": [
        "\n",
        "# Load DataFrames\n",
        "books = pd.read_csv('data/books.csv')\n",
        "ratings = pd.read_csv('data/ratings.csv')\n",
        "tags = pd.read_csv('data/tags.csv')\n",
        "book_tags = pd.read_csv('data/book_tags.csv')\n",
        "\n",
        "# Data preprocessing\n",
        "ratings = ratings.drop_duplicates(subset=['user_id', 'book_id'])\n",
        "ratings = ratings[ratings['user_id'].isin(ratings['user_id'].value_counts()[ratings['user_id'].value_counts() >= 20].index)]\n",
        "\n",
        "books.drop_duplicates(subset='title', inplace=True)\n",
        "books.dropna(subset=['original_title'], inplace=True)\n",
        "books = books[~books['book_id'].isin(books[books.isnull().any(axis=1)]['book_id'])]\n",
        "\n",
        "# Remove any ratings that do not have a corresponding book in the books DataFrame\n",
        "ratings = ratings[ratings['book_id'].isin(books['book_id'])]\n",
        "\n",
        "# Selecting 10% of users randomly\n",
        "np.random.seed(42)  # For reproducibility\n",
        "selected_users = np.random.choice(ratings['user_id'].unique(), size=int(0.1 * ratings['user_id'].nunique()), replace=False)\n",
        "ratings = ratings[ratings['user_id'].isin(selected_users)]\n",
        "\n",
        "# Function to split ratings based on different strategies\n",
        "def split_ratings_custom(ratings, strategy='random', shot=10, percentage=0.2):\n",
        "    def split_random(group, shot):\n",
        "        shot = min(shot, len(group))\n",
        "        train_indices = group.sample(n=shot, random_state=42).index\n",
        "        test_indices = group.index.difference(train_indices)\n",
        "        return train_indices, test_indices\n",
        "\n",
        "    def split_highest(group, shot):\n",
        "        shot = min(shot, len(group))\n",
        "        train_indices = group.nlargest(shot, 'rating').index\n",
        "        test_indices = group.index.difference(train_indices)\n",
        "        return train_indices, test_indices\n",
        "\n",
        "    def split_lowest(group, shot):\n",
        "        shot = min(shot, len(group))\n",
        "        train_indices = group.nsmallest(shot, 'rating').index\n",
        "        test_indices = group.index.difference(train_indices)\n",
        "        return train_indices, test_indices\n",
        "\n",
        "    def split_percentage(group, percentage):\n",
        "        train_size = int(len(group) * (1 - percentage))\n",
        "        train_indices = group.sample(n=train_size, random_state=42).index\n",
        "        test_indices = group.index.difference(train_indices)\n",
        "        return train_indices, test_indices\n",
        "\n",
        "    split_functions = {\n",
        "        'random': split_random,\n",
        "        'highest': split_highest,\n",
        "        'lowest': split_lowest,\n",
        "        'percentage': split_percentage\n",
        "    }\n",
        "\n",
        "    split_function = split_functions.get(strategy, split_random)\n",
        "\n",
        "    split_indices = ratings.groupby('user_id').apply(lambda x: split_function(x, shot if strategy != 'percentage' else percentage))\n",
        "\n",
        "    train_indices = split_indices.map(lambda x: x[0]).explode().dropna()\n",
        "    test_indices = split_indices.map(lambda x: x[1]).explode().dropna()\n",
        "\n",
        "    return train_indices, test_indices\n",
        "\n",
        "\n",
        "\n"
      ]
    },
    {
      "cell_type": "code",
      "execution_count": null,
      "metadata": {},
      "outputs": [],
      "source": [
        "# Example usage of evaluation\n",
        "strategies = ['percentage', 'random', 'highest', 'lowest']\n",
        "shots = [5, 10, 20]\n",
        "percentage = 0.2\n",
        "\n",
        "results = {}\n",
        "\n",
        "\n",
        "for strategy in strategies:\n",
        "    if strategy == 'percentage':\n",
        "        train_indices, test_indices = split_ratings_custom(ratings, strategy=strategy, percentage=percentage)\n",
        "        train_set = ratings.loc[train_indices]\n",
        "        test_set = ratings.loc[test_indices]\n",
        "\n",
        "        # Ensure there are no missing books in train that are in test\n",
        "        missing_in_train = set(test_set['book_id']).difference(train_set['book_id'])\n",
        "        if missing_in_train:\n",
        "            rows_to_move = test_set[test_set['book_id'].isin(missing_in_train)]\n",
        "            train_set = pd.concat([train_set, rows_to_move], ignore_index=True)\n",
        "            test_set = test_set[~test_set['book_id'].isin(missing_in_train)]\n",
        "\n",
        "        # Reset TensorFlow graph\n",
        "        tf.compat.v1.reset_default_graph()\n",
        "\n",
        "        # Create copies of train_set and test_set to avoid modifying the originals\n",
        "        train_set_copy = train_set.copy()\n",
        "        test_set_copy = test_set.copy()\n",
        "\n",
        "        # Rename columns in the copies\n",
        "        train_set_copy.rename(columns={\n",
        "            'user_id': 'user',\n",
        "            'book_id': 'item',\n",
        "            'rating': 'label'\n",
        "        }, inplace=True)\n",
        "\n",
        "        test_set_copy.rename(columns={\n",
        "            'user_id': 'user',\n",
        "            'book_id': 'item',\n",
        "            'rating': 'label'\n",
        "        }, inplace=True)\n",
        "\n",
        "        # Convert the renamed copies for use with DatasetPure\n",
        "        train_data, data_info = DatasetPure.build_trainset(train_set_copy)\n",
        "        eval_data = DatasetPure.build_evalset(test_set_copy)\n",
        "\n",
        "        # Initialize the ItemCF model\n",
        "        model = ItemCF(task=\"rating\", data_info=data_info)\n",
        "\n",
        "        # Fit the model\n",
        "        model.fit(\n",
        "            train_data,\n",
        "            neg_sampling=False,\n",
        "            verbose=2,\n",
        "            eval_data=eval_data,\n",
        "            metrics=[\"rmse\", \"mae\", \"r2\"]\n",
        "        )\n",
        "\n",
        "        # Save the model and data_info for later use\n",
        "        data_info.save(path=\"model\", model_name=\"model\")\n",
        "        model.save(path=\"model\", model_name=\"model\", manual=True, inference_only=True)\n",
        "\n",
        "        eval_result = evaluate(\n",
        "            model=model,\n",
        "            data=eval_data,\n",
        "            neg_sampling=False,\n",
        "            k=10,\n",
        "            metrics=[\"rmse\", \"mae\", \"r2\"],\n",
        "            sample_user_num=None,\n",
        "            seed=2222,\n",
        "        )\n",
        "\n",
        "        results[(strategy, 'N/A')] = eval_result\n",
        "\n",
        "    else:\n",
        "        for shot in shots:\n",
        "            train_indices, test_indices = split_ratings_custom(ratings, strategy=strategy, shot=shot)\n",
        "            train_set = ratings.loc[train_indices]\n",
        "            test_set = ratings.loc[test_indices]\n",
        "\n",
        "            # Ensure there are no missing books in train that are in test\n",
        "            missing_in_train = set(test_set['book_id']).difference(train_set['book_id'])\n",
        "            if missing_in_train:\n",
        "                rows_to_move = test_set[test_set['book_id'].isin(missing_in_train)]\n",
        "                train_set = pd.concat([train_set, rows_to_move], ignore_index=True)\n",
        "                test_set = test_set[~test_set['book_id'].isin(missing_in_train)]\n",
        "\n",
        "            # Reset TensorFlow graph\n",
        "            tf.compat.v1.reset_default_graph()\n",
        "\n",
        "            # Create copies of train_set and test_set to avoid modifying the originals\n",
        "            train_set_copy = train_set.copy()\n",
        "            test_set_copy = test_set.copy()\n",
        "\n",
        "            # Rename columns in the copies\n",
        "            train_set_copy.rename(columns={\n",
        "                'user_id': 'user',\n",
        "                'book_id': 'item',\n",
        "                'rating': 'label'\n",
        "            }, inplace=True)\n",
        "\n",
        "            test_set_copy.rename(columns={\n",
        "                'user_id': 'user',\n",
        "                'book_id': 'item',\n",
        "                'rating': 'label'\n",
        "            }, inplace=True)\n",
        "\n",
        "            # Convert the renamed copies for use with DatasetPure\n",
        "            train_data, data_info = DatasetPure.build_trainset(train_set_copy)\n",
        "            eval_data = DatasetPure.build_evalset(test_set_copy)\n",
        "\n",
        "            # Initialize the ItemCF model\n",
        "            model = ItemCF(task=\"rating\", data_info=data_info)\n",
        "\n",
        "            # Fit the model\n",
        "            model.fit(\n",
        "                train_data,\n",
        "                neg_sampling=False,\n",
        "                verbose=2,\n",
        "                eval_data=eval_data\n",
        "            )\n",
        "\n",
        "            # Save the model and data_info for later use\n",
        "            data_info.save(path=\"model\", model_name=\"model\")\n",
        "            model.save(path=\"model\", model_name=\"model\", manual=True, inference_only=True)\n",
        "\n",
        "            eval_result = evaluate(\n",
        "                model=model,\n",
        "                data=eval_data,\n",
        "                neg_sampling=False,\n",
        "                k=10,\n",
        "                metrics=[\"rmse\", \"mae\", \"r2\"],\n",
        "                sample_user_num=None,\n",
        "                seed=2222,\n",
        "            )\n",
        "\n",
        "            results[(strategy, shot)] = eval_result\n",
        "\n",
        "print(\"Evaluation Results:\")\n",
        "for key, value in results.items():\n",
        "    print(f\"Strategy: {key[0]}, Shot: {key[1]} -> RMSE: {value['rmse']}, MAE: {value['mae']}, R2: {value['r2']}\")\n"
      ]
    },
    {
      "cell_type": "markdown",
      "metadata": {},
      "source": [
        "### Graph Analysis"
      ]
    },
    {
      "cell_type": "code",
      "execution_count": 42,
      "metadata": {},
      "outputs": [
        {
          "name": "stdout",
          "output_type": "stream",
          "text": [
            "(8, 2732, {'weight': 5})\n",
            "(8, 1432, {'weight': 3})\n",
            "(8, 479, {'weight': 4})\n",
            "(8, 3020, {'weight': 5})\n",
            "(8, 6195, {'weight': 4})\n"
          ]
        }
      ],
      "source": [
        "B = nx.Graph()\n",
        "\n",
        "B.add_nodes_from(ratings['user_id'], bipartite=0)\n",
        "B.add_nodes_from(ratings['book_id'], bipartite=1)\n",
        "\n",
        "edges = list(zip(ratings['user_id'], ratings['book_id'], ratings['rating']))\n",
        "B.add_weighted_edges_from(edges)\n",
        "\n",
        "# Verify edges and their attributes\n",
        "for edge in list(B.edges(data=True))[:5]:  # Print first 5 edges with attributes\n",
        "    print(edge)"
      ]
    },
    {
      "cell_type": "code",
      "execution_count": 32,
      "metadata": {},
      "outputs": [
        {
          "data": {
            "text/plain": [
              "5342"
            ]
          },
          "execution_count": 32,
          "metadata": {},
          "output_type": "execute_result"
        }
      ],
      "source": [
        "ratings['user_id'].nunique()"
      ]
    },
    {
      "cell_type": "code",
      "execution_count": 33,
      "metadata": {},
      "outputs": [
        {
          "data": {
            "text/plain": [
              "7834"
            ]
          },
          "execution_count": 33,
          "metadata": {},
          "output_type": "execute_result"
        }
      ],
      "source": [
        "ratings['book_id'].nunique()    "
      ]
    },
    {
      "cell_type": "code",
      "execution_count": 43,
      "metadata": {},
      "outputs": [
        {
          "data": {
            "text/plain": [
              "529887"
            ]
          },
          "execution_count": 43,
          "metadata": {},
          "output_type": "execute_result"
        }
      ],
      "source": [
        "n_edge = B.number_of_edges()\n",
        "n_edge"
      ]
    },
    {
      "cell_type": "markdown",
      "metadata": {},
      "source": [
        "#### Reduce graph size "
      ]
    },
    {
      "cell_type": "code",
      "execution_count": 37,
      "metadata": {},
      "outputs": [],
      "source": [
        "def compute_cosine_similarity(graph, threshold):\n",
        "    # Create adjacency matrix for users and books\n",
        "    user_nodes = [n for n in graph.nodes() if graph.nodes[n]['bipartite'] == 0]\n",
        "    book_nodes = [n for n in graph.nodes() if graph.nodes[n]['bipartite'] == 1]\n",
        "    \n",
        "    # Create adjacency matrices\n",
        "    user_book_matrix = nx.bipartite.biadjacency_matrix(graph, row_order=user_nodes, column_order=book_nodes).toarray()\n",
        "    \n",
        "    # Compute cosine similarity\n",
        "    similarity_matrix = cosine_similarity(user_book_matrix)\n",
        "    \n",
        "    # Filter edges based on similarity threshold\n",
        "    filtered_edges = []\n",
        "    for i, user in enumerate(user_nodes):\n",
        "        for j, book in enumerate(book_nodes):\n",
        "            if similarity_matrix[i, j] >= threshold:\n",
        "                if graph.has_edge(user, book):\n",
        "                    filtered_edges.append((user, book, graph[user][book]['weight']))\n",
        "    \n",
        "    return filtered_edges\n",
        "\n",
        "# Define similarity threshold\n",
        "similarity_threshold = 0.5\n",
        "\n",
        "# Compute filtered edges based on co-similarity\n",
        "filtered_edges = compute_cosine_similarity(B, similarity_threshold)\n",
        "\n",
        "# Create a new graph with the filtered edges\n",
        "B_filtered = nx.Graph()\n",
        "B_filtered.add_weighted_edges_from(filtered_edges)\n",
        "\n",
        "# Calculate edge weights and their probabilities in the filtered graph\n",
        "edge_weights = np.array([d['weight'] for u, v, d in B_filtered.edges(data=True)])\n",
        "edge_probabilities = edge_weights / edge_weights.sum()\n",
        "\n",
        "# Sampling edges with probabilities\n",
        "num_edges_to_sample = min(100000, B_filtered.number_of_edges())\n",
        "edges_list = list(B_filtered.edges(data=True))  # Convert edges to list for indexing\n",
        "sampled_indices = np.random.choice(len(edges_list), size=num_edges_to_sample, replace=False, p=edge_probabilities)\n",
        "sampled_edges = [edges_list[i] for i in sampled_indices]\n",
        "\n",
        "# Create a new graph with the sampled edges\n",
        "B_sampled = nx.Graph()\n",
        "B_sampled.add_edges_from([(u, v, {'weight': d['weight']}) for u, v, d in sampled_edges])\n",
        "\n",
        "print(f\"Number of edges in the sampled graph: {B_sampled.number_of_edges()}\")\n",
        "\n",
        "for edge in list(B_sampled.edges(data=True))[:5]:\n",
        "    print(edge)"
      ]
    },
    {
      "cell_type": "markdown",
      "metadata": {},
      "source": [
        "#### other method "
      ]
    },
    {
      "cell_type": "code",
      "execution_count": 44,
      "metadata": {},
      "outputs": [
        {
          "name": "stdout",
          "output_type": "stream",
          "text": [
            "Number of edges in the sampled graph: 100000\n",
            "(12211, 1423, {'weight': 3})\n",
            "(12211, 271, {'weight': 5})\n",
            "(12211, 1993, {'weight': 4})\n",
            "(12211, 2513, {'weight': 5})\n",
            "(12211, 2347, {'weight': 3})\n"
          ]
        }
      ],
      "source": [
        "edge_weights = np.array([d['weight'] for u, v, d in B.edges(data=True)])\n",
        "edge_probabilities = edge_weights / edge_weights.sum()\n",
        "\n",
        "\n",
        "num_edges_to_sample = min(100000, B.number_of_edges())\n",
        "edges_list = list(B.edges(data=True)) \n",
        "sampled_indices = np.random.choice(len(edges_list), size=num_edges_to_sample, replace=False, p=edge_probabilities)\n",
        "sampled_edges = [edges_list[i] for i in sampled_indices]\n",
        "\n",
        "\n",
        "B_sampled = nx.Graph()\n",
        "B_sampled.add_edges_from([(u, v, {'weight': d['weight']}) for u, v, d in sampled_edges])\n",
        "\n",
        "print(f\"Number of edges in the sampled graph: {B_sampled.number_of_edges()}\")\n",
        "\n",
        "for edge in list(B_sampled.edges(data=True))[:5]:\n",
        "    print(edge)"
      ]
    },
    {
      "cell_type": "markdown",
      "metadata": {},
      "source": [
        "#### Metrics "
      ]
    },
    {
      "cell_type": "code",
      "execution_count": 46,
      "metadata": {},
      "outputs": [
        {
          "data": {
            "image/png": "[encoded data removed]",
            "text/plain": [
              "<Figure size 640x480 with 1 Axes>"
            ]
          },
          "metadata": {},
          "output_type": "display_data"
        }
      ],
      "source": [
        "import matplotlib.pyplot as plt\n",
        "\n",
        "degree_sequence = [d for n, d in B_sampled.degree()]\n",
        "degree_count = pd.Series(degree_sequence).value_counts().sort_index()\n",
        "plt.figure()\n",
        "degree_count.plot(kind='bar')\n",
        "plt.title('Degree Distribution')\n",
        "plt.xlabel('Degree')\n",
        "plt.ylabel('Frequency')\n",
        "plt.show()"
      ]
    },
    {
      "cell_type": "code",
      "execution_count": 47,
      "metadata": {},
      "outputs": [
        {
          "name": "stdout",
          "output_type": "stream",
          "text": [
            "Average Degree: 16.409583196586805\n"
          ]
        }
      ],
      "source": [
        "average_degree = sum(degree_sequence) / len(degree_sequence)\n",
        "print(f\"Average Degree: {average_degree}\")"
      ]
    },
    {
      "cell_type": "code",
      "execution_count": 48,
      "metadata": {},
      "outputs": [
        {
          "name": "stdout",
          "output_type": "stream",
          "text": [
            "Density: 0.0013464825795180772\n"
          ]
        }
      ],
      "source": [
        "density = nx.density(B_sampled)\n",
        "print(f\"Density: {density}\")\n"
      ]
    },
    {
      "cell_type": "code",
      "execution_count": 49,
      "metadata": {},
      "outputs": [
        {
          "name": "stdout",
          "output_type": "stream",
          "text": [
            "Clustering Coefficient: 0.0014598601511071657\n"
          ]
        }
      ],
      "source": [
        "clustering_coefficient = nx.average_clustering(B_sampled)\n",
        "print(f\"Clustering Coefficient: {clustering_coefficient}\")"
      ]
    },
    {
      "cell_type": "code",
      "execution_count": 50,
      "metadata": {},
      "outputs": [
        {
          "name": "stdout",
          "output_type": "stream",
          "text": [
            "Number of Connected Components: 1\n"
          ]
        }
      ],
      "source": [
        "num_connected_components = nx.number_connected_components(B_sampled)\n",
        "print(f\"Number of Connected Components: {num_connected_components}\")"
      ]
    },
    {
      "cell_type": "code",
      "execution_count": 51,
      "metadata": {},
      "outputs": [
        {
          "name": "stdout",
          "output_type": "stream",
          "text": [
            "Assortativity: -0.12341805759059894\n"
          ]
        }
      ],
      "source": [
        "assortativity = nx.degree_assortativity_coefficient(B_sampled)\n",
        "print(f\"Assortativity: {assortativity}\")"
      ]
    },
    {
      "cell_type": "code",
      "execution_count": 52,
      "metadata": {},
      "outputs": [
        {
          "name": "stdout",
          "output_type": "stream",
          "text": [
            "Average Local Clustering Coefficient: 0.0014598601511071657\n"
          ]
        }
      ],
      "source": [
        "\n",
        "local_clustering = nx.clustering(B_sampled)\n",
        "local_clustering_avg = sum(local_clustering.values()) / len(local_clustering)\n",
        "print(f\"Average Local Clustering Coefficient: {local_clustering_avg}\")"
      ]
    },
    {
      "cell_type": "markdown",
      "metadata": {},
      "source": [
        "### LibRecommender : GraphSage : Ranking "
      ]
    },
    {
      "cell_type": "code",
      "execution_count": 53,
      "metadata": {},
      "outputs": [],
      "source": [
        "# import torch\n",
        "# import torch.nn.functional as F\n",
        "\n",
        "# def custom_loss_function(user_embeddings, item_embeddings, labels, negative_samples):\n",
        "#     # user_embeddings: N-dimensional vector representation of users\n",
        "#     # item_embeddings: N-dimensional vector representation of items\n",
        "#     # labels: ground truth labels for the items (1 for positive samples, 0 for negative samples)\n",
        "#     # negative_samples: negative samples for the given users\n",
        "\n",
        "#     # Positive sample loss\n",
        "#     pos_scores = torch.sum(user_embeddings * item_embeddings, dim=1)\n",
        "#     pos_loss = F.logsigmoid(pos_scores)\n",
        "\n",
        "#     # Negative sample loss\n",
        "#     neg_scores = torch.bmm(negative_samples, user_embeddings.unsqueeze(-1)).squeeze(-1)\n",
        "#     neg_loss = F.logsigmoid(-neg_scores).sum(1)\n",
        "\n",
        "#     # Total loss\n",
        "#     loss = -torch.mean(pos_loss + neg_loss)\n",
        "#     return loss\n"
      ]
    },
    {
      "cell_type": "code",
      "execution_count": 86,
      "metadata": {},
      "outputs": [],
      "source": [
        "import torch\n",
        "import torch.nn.functional as F\n",
        "\n",
        "\n",
        "def custom_loss_function(user_embeddings, item_embeddings, positive_samples, negative_samples):\n",
        "    print(\"Custom loss function is being used.\")  # Add this line to log usage\n",
        "    pos_scores = torch.sum(user_embeddings * positive_samples, dim=1)\n",
        "    pos_loss = F.logsigmoid(pos_scores)\n",
        "\n",
        "    neg_scores = torch.bmm(negative_samples, user_embeddings.unsqueeze(-1)).squeeze(-1)\n",
        "    neg_loss = F.logsigmoid(-neg_scores).sum(1)\n",
        "\n",
        "    loss = -torch.mean(pos_loss + neg_loss)\n",
        "    return loss"
      ]
    },
    {
      "cell_type": "code",
      "execution_count": 80,
      "metadata": {},
      "outputs": [
        {
          "name": "stderr",
          "output_type": "stream",
          "text": [
            "C:\\Users\\duval\\AppData\\Local\\Temp\\ipykernel_17124\\1331159700.py:58: DeprecationWarning: DataFrameGroupBy.apply operated on the grouping columns. This behavior is deprecated, and in a future version of pandas the grouping columns will be excluded from the operation. Either pass `include_groups=False` to exclude the groupings or explicitly select the grouping columns after groupby to silence this warning.\n",
            "  split_indices = ratings.groupby('user_id').apply(lambda x: split_function(x, shot if strategy != 'percentage' else percentage))\n"
          ]
        }
      ],
      "source": [
        "train_indices, test_indices = split_ratings_custom(ratings, strategy='random', shot=10)\n",
        "train_data = ratings.loc[train_indices]\n",
        "test_data = ratings.loc[test_indices]\n",
        "\n",
        "missing_in_train = set(test_data['book_id']).difference(train_data['book_id'])\n",
        "if missing_in_train:\n",
        "    rows_to_move = test_data[test_data['book_id'].isin(missing_in_train)]\n",
        "    train_data = pd.concat([train_data, rows_to_move], ignore_index=True)\n",
        "    test_data = test_data[~test_data['book_id'].isin(missing_in_train)]\n",
        "\n",
        "tf.compat.v1.reset_default_graph()\n",
        "    \n",
        "train_set_copy = train_data.copy()\n",
        "test_set_copy = test_data.copy()\n",
        "\n",
        "train_set_copy.rename(columns={'user_id': 'user', 'book_id': 'item', 'rating': 'label'}, inplace=True)\n",
        "test_set_copy.rename(columns={'user_id': 'user', 'book_id': 'item', 'rating': 'label'}, inplace=True)\n"
      ]
    },
    {
      "cell_type": "code",
      "execution_count": 81,
      "metadata": {},
      "outputs": [
        {
          "data": {
            "text/html": [
              "<div>\n",
              "<style scoped>\n",
              "    .dataframe tbody tr th:only-of-type {\n",
              "        vertical-align: middle;\n",
              "    }\n",
              "\n",
              "    .dataframe tbody tr th {\n",
              "        vertical-align: top;\n",
              "    }\n",
              "\n",
              "    .dataframe thead th {\n",
              "        text-align: right;\n",
              "    }\n",
              "</style>\n",
              "<table border=\"1\" class=\"dataframe\">\n",
              "  <thead>\n",
              "    <tr style=\"text-align: right;\">\n",
              "      <th></th>\n",
              "      <th>user</th>\n",
              "      <th>item</th>\n",
              "      <th>label</th>\n",
              "    </tr>\n",
              "  </thead>\n",
              "  <tbody>\n",
              "    <tr>\n",
              "      <th>0</th>\n",
              "      <td>8</td>\n",
              "      <td>97</td>\n",
              "      <td>4</td>\n",
              "    </tr>\n",
              "    <tr>\n",
              "      <th>1</th>\n",
              "      <td>8</td>\n",
              "      <td>1364</td>\n",
              "      <td>4</td>\n",
              "    </tr>\n",
              "    <tr>\n",
              "      <th>2</th>\n",
              "      <td>8</td>\n",
              "      <td>2002</td>\n",
              "      <td>4</td>\n",
              "    </tr>\n",
              "    <tr>\n",
              "      <th>3</th>\n",
              "      <td>8</td>\n",
              "      <td>1084</td>\n",
              "      <td>4</td>\n",
              "    </tr>\n",
              "    <tr>\n",
              "      <th>4</th>\n",
              "      <td>8</td>\n",
              "      <td>2732</td>\n",
              "      <td>5</td>\n",
              "    </tr>\n",
              "    <tr>\n",
              "      <th>...</th>\n",
              "      <td>...</td>\n",
              "      <td>...</td>\n",
              "      <td>...</td>\n",
              "    </tr>\n",
              "    <tr>\n",
              "      <th>65637</th>\n",
              "      <td>53381</td>\n",
              "      <td>4811</td>\n",
              "      <td>5</td>\n",
              "    </tr>\n",
              "    <tr>\n",
              "      <th>65638</th>\n",
              "      <td>53381</td>\n",
              "      <td>8096</td>\n",
              "      <td>4</td>\n",
              "    </tr>\n",
              "    <tr>\n",
              "      <th>65639</th>\n",
              "      <td>53391</td>\n",
              "      <td>8296</td>\n",
              "      <td>5</td>\n",
              "    </tr>\n",
              "    <tr>\n",
              "      <th>65640</th>\n",
              "      <td>53391</td>\n",
              "      <td>7291</td>\n",
              "      <td>2</td>\n",
              "    </tr>\n",
              "    <tr>\n",
              "      <th>65641</th>\n",
              "      <td>53416</td>\n",
              "      <td>7017</td>\n",
              "      <td>4</td>\n",
              "    </tr>\n",
              "  </tbody>\n",
              "</table>\n",
              "<p>65642 rows × 3 columns</p>\n",
              "</div>"
            ],
            "text/plain": [
              "        user  item  label\n",
              "0          8    97      4\n",
              "1          8  1364      4\n",
              "2          8  2002      4\n",
              "3          8  1084      4\n",
              "4          8  2732      5\n",
              "...      ...   ...    ...\n",
              "65637  53381  4811      5\n",
              "65638  53381  8096      4\n",
              "65639  53391  8296      5\n",
              "65640  53391  7291      2\n",
              "65641  53416  7017      4\n",
              "\n",
              "[65642 rows x 3 columns]"
            ]
          },
          "execution_count": 81,
          "metadata": {},
          "output_type": "execute_result"
        }
      ],
      "source": [
        "train_set_copy"
      ]
    },
    {
      "cell_type": "code",
      "execution_count": 89,
      "metadata": {},
      "outputs": [],
      "source": [
        "from libreco.algorithms import GraphSage\n",
        "\n",
        "train_data, data_info = DatasetPure.build_trainset(train_set_copy)\n",
        "\n",
        "model = GraphSage(\n",
        "    task=\"ranking\",\n",
        "    data_info=data_info,\n",
        "    loss_type=\"cross_entropy\",\n",
        "    paradigm=\"u2i\",\n",
        "    embed_size=16,\n",
        "    n_epochs=10,\n",
        "    lr=0.001,\n",
        "    lr_decay=False,\n",
        "    epsilon=1e-8,\n",
        "    amsgrad=False,\n",
        "    reg=None,\n",
        "    batch_size=256,\n",
        "    num_neg=1,\n",
        "    dropout_rate=0.0,\n",
        "    remove_edges=False,\n",
        "    num_layers=2,\n",
        "    num_neighbors=3,\n",
        "    num_walks=10,\n",
        "    sample_walk_len=5,\n",
        "    margin=1.0,\n",
        "    sampler=\"random\",\n",
        "    start_node=\"random\",\n",
        "    focus_start=False,\n",
        "    seed=42,\n",
        "    device=\"cuda\" if torch.cuda.is_available() else \"cpu\"\n",
        ")\n",
        "\n",
        "#How to add custom loss\n",
        "#model.custom_loss = custom_loss_function"
      ]
    },
    {
      "cell_type": "code",
      "execution_count": 90,
      "metadata": {},
      "outputs": [
        {
          "name": "stdout",
          "output_type": "stream",
          "text": [
            "Training start time: \u001b[35m2024-06-05 16:51:04\u001b[0m\n"
          ]
        },
        {
          "name": "stderr",
          "output_type": "stream",
          "text": [
            "train: 100%|██████████| 513/513 [00:22<00:00, 22.99it/s]\n"
          ]
        },
        {
          "name": "stdout",
          "output_type": "stream",
          "text": [
            "Epoch 1 elapsed: 22.305s\n",
            "\t \u001b[32mtrain_loss: 0.6128\u001b[0m\n"
          ]
        },
        {
          "name": "stderr",
          "output_type": "stream",
          "text": [
            "item embeds: 100%|██████████| 31/31 [00:00<00:00, 36.44it/s]\n",
            "eval_listwise: 100%|██████████| 5334/5334 [00:06<00:00, 794.89it/s]\n"
          ]
        },
        {
          "name": "stdout",
          "output_type": "stream",
          "text": [
            "\t eval precision@10: 0.2510\n",
            "\t eval recall@10: 0.0290\n",
            "\t eval ndcg@10: 0.5289\n",
            "==============================\n"
          ]
        },
        {
          "name": "stderr",
          "output_type": "stream",
          "text": [
            "train: 100%|██████████| 513/513 [00:22<00:00, 22.46it/s]\n"
          ]
        },
        {
          "name": "stdout",
          "output_type": "stream",
          "text": [
            "Epoch 2 elapsed: 22.838s\n",
            "\t \u001b[32mtrain_loss: 0.5575\u001b[0m\n"
          ]
        },
        {
          "name": "stderr",
          "output_type": "stream",
          "text": [
            "item embeds: 100%|██████████| 31/31 [00:00<00:00, 39.48it/s]\n",
            "eval_listwise: 100%|██████████| 5334/5334 [00:06<00:00, 827.19it/s]\n"
          ]
        },
        {
          "name": "stdout",
          "output_type": "stream",
          "text": [
            "\t eval precision@10: 0.2474\n",
            "\t eval recall@10: 0.0290\n",
            "\t eval ndcg@10: 0.5311\n",
            "==============================\n"
          ]
        },
        {
          "name": "stderr",
          "output_type": "stream",
          "text": [
            "train: 100%|██████████| 513/513 [00:24<00:00, 21.02it/s]\n"
          ]
        },
        {
          "name": "stdout",
          "output_type": "stream",
          "text": [
            "Epoch 3 elapsed: 24.408s\n",
            "\t \u001b[32mtrain_loss: 0.5477\u001b[0m\n"
          ]
        },
        {
          "name": "stderr",
          "output_type": "stream",
          "text": [
            "item embeds: 100%|██████████| 31/31 [00:00<00:00, 44.10it/s]\n",
            "eval_listwise: 100%|██████████| 5334/5334 [00:06<00:00, 828.50it/s] \n"
          ]
        },
        {
          "name": "stdout",
          "output_type": "stream",
          "text": [
            "\t eval precision@10: 0.2643\n",
            "\t eval recall@10: 0.0304\n",
            "\t eval ndcg@10: 0.5208\n",
            "==============================\n"
          ]
        },
        {
          "name": "stderr",
          "output_type": "stream",
          "text": [
            "train: 100%|██████████| 513/513 [00:24<00:00, 20.58it/s]\n"
          ]
        },
        {
          "name": "stdout",
          "output_type": "stream",
          "text": [
            "Epoch 4 elapsed: 24.935s\n",
            "\t \u001b[32mtrain_loss: 0.5374\u001b[0m\n"
          ]
        },
        {
          "name": "stderr",
          "output_type": "stream",
          "text": [
            "item embeds: 100%|██████████| 31/31 [00:00<00:00, 38.89it/s]\n",
            "eval_listwise: 100%|██████████| 5334/5334 [00:05<00:00, 965.62it/s] \n"
          ]
        },
        {
          "name": "stdout",
          "output_type": "stream",
          "text": [
            "\t eval precision@10: 0.2876\n",
            "\t eval recall@10: 0.0331\n",
            "\t eval ndcg@10: 0.5429\n",
            "==============================\n"
          ]
        },
        {
          "name": "stderr",
          "output_type": "stream",
          "text": [
            "train: 100%|██████████| 513/513 [00:21<00:00, 24.14it/s]\n"
          ]
        },
        {
          "name": "stdout",
          "output_type": "stream",
          "text": [
            "Epoch 5 elapsed: 21.262s\n",
            "\t \u001b[32mtrain_loss: 0.5243\u001b[0m\n"
          ]
        },
        {
          "name": "stderr",
          "output_type": "stream",
          "text": [
            "item embeds: 100%|██████████| 31/31 [00:00<00:00, 41.89it/s]\n",
            "eval_listwise: 100%|██████████| 5334/5334 [00:05<00:00, 1037.75it/s]\n"
          ]
        },
        {
          "name": "stdout",
          "output_type": "stream",
          "text": [
            "\t eval precision@10: 0.2893\n",
            "\t eval recall@10: 0.0336\n",
            "\t eval ndcg@10: 0.5589\n",
            "==============================\n"
          ]
        },
        {
          "name": "stderr",
          "output_type": "stream",
          "text": [
            "train: 100%|██████████| 513/513 [00:22<00:00, 22.70it/s]\n"
          ]
        },
        {
          "name": "stdout",
          "output_type": "stream",
          "text": [
            "Epoch 6 elapsed: 22.603s\n",
            "\t \u001b[32mtrain_loss: 0.5056\u001b[0m\n"
          ]
        },
        {
          "name": "stderr",
          "output_type": "stream",
          "text": [
            "item embeds: 100%|██████████| 31/31 [00:00<00:00, 40.99it/s]\n",
            "eval_listwise: 100%|██████████| 5334/5334 [00:07<00:00, 692.59it/s]\n"
          ]
        },
        {
          "name": "stdout",
          "output_type": "stream",
          "text": [
            "\t eval precision@10: 0.2841\n",
            "\t eval recall@10: 0.0332\n",
            "\t eval ndcg@10: 0.5679\n",
            "==============================\n"
          ]
        },
        {
          "name": "stderr",
          "output_type": "stream",
          "text": [
            "train: 100%|██████████| 513/513 [00:43<00:00, 11.78it/s]\n"
          ]
        },
        {
          "name": "stdout",
          "output_type": "stream",
          "text": [
            "Epoch 7 elapsed: 43.548s\n",
            "\t \u001b[32mtrain_loss: 0.4873\u001b[0m\n"
          ]
        },
        {
          "name": "stderr",
          "output_type": "stream",
          "text": [
            "item embeds: 100%|██████████| 31/31 [00:01<00:00, 22.86it/s]\n",
            "eval_listwise: 100%|██████████| 5334/5334 [00:06<00:00, 776.09it/s]\n"
          ]
        },
        {
          "name": "stdout",
          "output_type": "stream",
          "text": [
            "\t eval precision@10: 0.2901\n",
            "\t eval recall@10: 0.0337\n",
            "\t eval ndcg@10: 0.5597\n",
            "==============================\n"
          ]
        },
        {
          "name": "stderr",
          "output_type": "stream",
          "text": [
            "train: 100%|██████████| 513/513 [00:31<00:00, 16.27it/s]\n"
          ]
        },
        {
          "name": "stdout",
          "output_type": "stream",
          "text": [
            "Epoch 8 elapsed: 31.535s\n",
            "\t \u001b[32mtrain_loss: 0.472\u001b[0m\n"
          ]
        },
        {
          "name": "stderr",
          "output_type": "stream",
          "text": [
            "item embeds: 100%|██████████| 31/31 [00:00<00:00, 41.10it/s]\n",
            "eval_listwise: 100%|██████████| 5334/5334 [00:06<00:00, 878.96it/s] \n"
          ]
        },
        {
          "name": "stdout",
          "output_type": "stream",
          "text": [
            "\t eval precision@10: 0.2995\n",
            "\t eval recall@10: 0.0353\n",
            "\t eval ndcg@10: 0.5777\n",
            "==============================\n"
          ]
        },
        {
          "name": "stderr",
          "output_type": "stream",
          "text": [
            "train: 100%|██████████| 513/513 [00:30<00:00, 17.05it/s]\n"
          ]
        },
        {
          "name": "stdout",
          "output_type": "stream",
          "text": [
            "Epoch 9 elapsed: 30.098s\n",
            "\t \u001b[32mtrain_loss: 0.4614\u001b[0m\n"
          ]
        },
        {
          "name": "stderr",
          "output_type": "stream",
          "text": [
            "item embeds: 100%|██████████| 31/31 [00:00<00:00, 39.31it/s]\n",
            "eval_listwise: 100%|██████████| 5334/5334 [00:05<00:00, 1007.30it/s]\n"
          ]
        },
        {
          "name": "stdout",
          "output_type": "stream",
          "text": [
            "\t eval precision@10: 0.2827\n",
            "\t eval recall@10: 0.0332\n",
            "\t eval ndcg@10: 0.5425\n",
            "==============================\n"
          ]
        },
        {
          "name": "stderr",
          "output_type": "stream",
          "text": [
            "train: 100%|██████████| 513/513 [00:30<00:00, 16.97it/s]\n"
          ]
        },
        {
          "name": "stdout",
          "output_type": "stream",
          "text": [
            "Epoch 10 elapsed: 30.239s\n",
            "\t \u001b[32mtrain_loss: 0.4492\u001b[0m\n"
          ]
        },
        {
          "name": "stderr",
          "output_type": "stream",
          "text": [
            "item embeds: 100%|██████████| 31/31 [00:00<00:00, 43.26it/s]\n",
            "eval_listwise: 100%|██████████| 5334/5334 [00:06<00:00, 868.91it/s] \n"
          ]
        },
        {
          "name": "stdout",
          "output_type": "stream",
          "text": [
            "\t eval precision@10: 0.2844\n",
            "\t eval recall@10: 0.0332\n",
            "\t eval ndcg@10: 0.5459\n",
            "==============================\n"
          ]
        }
      ],
      "source": [
        "eval_data = DatasetPure.build_evalset(test_set_copy)\n",
        "\n",
        "model.fit(\n",
        "    train_data,\n",
        "    neg_sampling=True,\n",
        "    verbose=2,\n",
        "    eval_data=eval_data,\n",
        "    metrics=[\"precision\", \"recall\", \"ndcg\"]\n",
        ")"
      ]
    },
    {
      "cell_type": "code",
      "execution_count": 85,
      "metadata": {},
      "outputs": [
        {
          "name": "stderr",
          "output_type": "stream",
          "text": [
            "eval_listwise: 100%|██████████| 2048/2048 [00:02<00:00, 982.46it/s] \n"
          ]
        },
        {
          "name": "stdout",
          "output_type": "stream",
          "text": [
            "Evaluation Results: {'precision': 0.287158203125, 'recall': 0.03373698060760824, 'ndcg': 0.5491255772963473}\n"
          ]
        }
      ],
      "source": [
        "from libreco.evaluation import evaluate\n",
        "\n",
        "eval_result = evaluate(\n",
        "    model=model,\n",
        "    data=eval_data,\n",
        "    neg_sampling=True,\n",
        "    k=10,\n",
        "    metrics=[\"precision\", \"recall\", \"ndcg\"],\n",
        "    sample_user_num=2048,\n",
        "    seed=2222,\n",
        ")\n",
        "\n",
        "print(f\"Evaluation Results: {eval_result}\")"
      ]
    },
    {
      "cell_type": "markdown",
      "metadata": {},
      "source": [
        "### StellarGraph : Needs python ver < 3.9 however torch need > 3.9"
      ]
    },
    {
      "cell_type": "code",
      "execution_count": 4,
      "metadata": {},
      "outputs": [],
      "source": [
        "import stellargraph as sg\n",
        "from stellargraph.data import EdgeSplitter\n",
        "from stellargraph.mapper import GraphSAGELinkGenerator\n",
        "from stellargraph.layer import GraphSAGE, HinSAGE, link_classification\n",
        "\n",
        "from tensorflow import keras\n",
        "from sklearn import preprocessing, feature_extraction, model_selection\n",
        "\n",
        "from stellargraph import globalvar\n",
        "from stellargraph import datasets\n",
        "from IPython.display import display, HTML\n",
        "%matplotlib inline"
      ]
    }
  ],
  "metadata": {
    "colab": {
      "provenance": []
    },
    "kernelspec": {
      "display_name": "Python 3",
      "name": "python3"
    },
    "language_info": {
      "codemirror_mode": {
        "name": "ipython",
        "version": 3
      },
      "file_extension": ".py",
      "mimetype": "text/x-python",
      "name": "python",
      "nbconvert_exporter": "python",
      "pygments_lexer": "ipython3",
      "version": "3.11.5"
    }
  },
  "nbformat": 4,
  "nbformat_minor": 0
}
